{
 "cells": [
  {
   "cell_type": "code",
   "execution_count": 2,
   "id": "48ce0a6a",
   "metadata": {},
   "outputs": [],
   "source": [
    "import numpy as np\n",
    "import matplotlib.pyplot as plt \n",
    "import pandas as pd \n",
    "from pandas import DataFrame, Series "
   ]
  },
  {
   "cell_type": "code",
   "execution_count": 5,
   "id": "7533bd3c",
   "metadata": {},
   "outputs": [
    {
     "name": "stdout",
     "output_type": "stream",
     "text": [
      "2.2.2\n"
     ]
    }
   ],
   "source": [
    "print(pd.__version__)"
   ]
  },
  {
   "cell_type": "code",
   "execution_count": 6,
   "id": "598a1a16",
   "metadata": {
    "vscode": {
     "languageId": "sql"
    }
   },
   "outputs": [
    {
     "data": {
      "text/html": [
       "<div>\n",
       "<style scoped>\n",
       "    .dataframe tbody tr th:only-of-type {\n",
       "        vertical-align: middle;\n",
       "    }\n",
       "\n",
       "    .dataframe tbody tr th {\n",
       "        vertical-align: top;\n",
       "    }\n",
       "\n",
       "    .dataframe thead th {\n",
       "        text-align: right;\n",
       "    }\n",
       "</style>\n",
       "<table border=\"1\" class=\"dataframe\">\n",
       "  <thead>\n",
       "    <tr style=\"text-align: right;\">\n",
       "      <th></th>\n",
       "      <th>cost</th>\n",
       "      <th>price</th>\n",
       "      <th>weight</th>\n",
       "      <th>purchase_date</th>\n",
       "      <th>product_type</th>\n",
       "      <th>product_level</th>\n",
       "      <th>maker</th>\n",
       "      <th>ingredient</th>\n",
       "      <th>height</th>\n",
       "      <th>width</th>\n",
       "      <th>depth</th>\n",
       "    </tr>\n",
       "  </thead>\n",
       "  <tbody>\n",
       "    <tr>\n",
       "      <th>0</th>\n",
       "      <td>$333k</td>\n",
       "      <td>$300,492</td>\n",
       "      <td>3 Ton 90 Kg</td>\n",
       "      <td>Dec 19 2008</td>\n",
       "      <td>Q,B</td>\n",
       "      <td>advanced</td>\n",
       "      <td>M14122</td>\n",
       "      <td>IN732052,IN732053</td>\n",
       "      <td>2.76 meters</td>\n",
       "      <td>97 cm</td>\n",
       "      <td>26 cm</td>\n",
       "    </tr>\n",
       "    <tr>\n",
       "      <th>1</th>\n",
       "      <td>NaN</td>\n",
       "      <td>$430,570</td>\n",
       "      <td>3 Ton 30 Kg</td>\n",
       "      <td>Sep 10 1997</td>\n",
       "      <td>J,D</td>\n",
       "      <td>basic</td>\n",
       "      <td>NaN</td>\n",
       "      <td>IN732054,IN732055,IN732056,IN732057,IN732058</td>\n",
       "      <td>2.67 meters</td>\n",
       "      <td>98 cm</td>\n",
       "      <td>26 cm</td>\n",
       "    </tr>\n",
       "    <tr>\n",
       "      <th>2</th>\n",
       "      <td>$270k</td>\n",
       "      <td>$213,070</td>\n",
       "      <td>3 Ton 40 Kg</td>\n",
       "      <td>Sep 05 2001</td>\n",
       "      <td>J,D</td>\n",
       "      <td>basic</td>\n",
       "      <td>NaN</td>\n",
       "      <td>IN732054,IN732059,IN732060</td>\n",
       "      <td>3.0 meters</td>\n",
       "      <td>93 cm</td>\n",
       "      <td>24 cm</td>\n",
       "    </tr>\n",
       "    <tr>\n",
       "      <th>3</th>\n",
       "      <td>NaN</td>\n",
       "      <td>$229,174</td>\n",
       "      <td>3 Ton 50 Kg</td>\n",
       "      <td>Dec 23 2016</td>\n",
       "      <td>U</td>\n",
       "      <td>advanced</td>\n",
       "      <td>M14123</td>\n",
       "      <td>IN732061,IN732062,IN732063</td>\n",
       "      <td>2.5 meters</td>\n",
       "      <td>102 cm</td>\n",
       "      <td>27 cm</td>\n",
       "    </tr>\n",
       "    <tr>\n",
       "      <th>4</th>\n",
       "      <td>$97k</td>\n",
       "      <td>$122,659</td>\n",
       "      <td>2 Ton 970 Kg</td>\n",
       "      <td>Jan 12 2000</td>\n",
       "      <td>D,R</td>\n",
       "      <td>advanced</td>\n",
       "      <td>NaN</td>\n",
       "      <td>IN732064,IN732065,IN732066</td>\n",
       "      <td>2.47 meters</td>\n",
       "      <td>101 cm</td>\n",
       "      <td>26 cm</td>\n",
       "    </tr>\n",
       "    <tr>\n",
       "      <th>...</th>\n",
       "      <td>...</td>\n",
       "      <td>...</td>\n",
       "      <td>...</td>\n",
       "      <td>...</td>\n",
       "      <td>...</td>\n",
       "      <td>...</td>\n",
       "      <td>...</td>\n",
       "      <td>...</td>\n",
       "      <td>...</td>\n",
       "      <td>...</td>\n",
       "      <td>...</td>\n",
       "    </tr>\n",
       "    <tr>\n",
       "      <th>3192</th>\n",
       "      <td>NaN</td>\n",
       "      <td>$93,349</td>\n",
       "      <td>3 Ton 0 Kg</td>\n",
       "      <td>Nov 25 2016</td>\n",
       "      <td>D</td>\n",
       "      <td>advanced</td>\n",
       "      <td>M14904</td>\n",
       "      <td>IN732490,IN732338,IN732503,IN732435,IN732583</td>\n",
       "      <td>2.02 meters</td>\n",
       "      <td>112 cm</td>\n",
       "      <td>29 cm</td>\n",
       "    </tr>\n",
       "    <tr>\n",
       "      <th>3193</th>\n",
       "      <td>NaN</td>\n",
       "      <td>$40,384</td>\n",
       "      <td>2 Ton 830 Kg</td>\n",
       "      <td>May 25 2007</td>\n",
       "      <td>J,B</td>\n",
       "      <td>intermediate</td>\n",
       "      <td>M14578</td>\n",
       "      <td>IN732832,IN732166,IN733162,IN733785,IN732069,I...</td>\n",
       "      <td>2.15 meters</td>\n",
       "      <td>106 cm</td>\n",
       "      <td>28 cm</td>\n",
       "    </tr>\n",
       "    <tr>\n",
       "      <th>3194</th>\n",
       "      <td>NaN</td>\n",
       "      <td>$1,074,844</td>\n",
       "      <td>3 Ton 80 Kg</td>\n",
       "      <td>Dec 16 2016</td>\n",
       "      <td>C</td>\n",
       "      <td>intermediate</td>\n",
       "      <td>M14883,M15011</td>\n",
       "      <td>IN733462,IN732654,IN732149,IN733067,IN734088,I...</td>\n",
       "      <td>2.84 meters</td>\n",
       "      <td>96 cm</td>\n",
       "      <td>25 cm</td>\n",
       "    </tr>\n",
       "    <tr>\n",
       "      <th>3195</th>\n",
       "      <td>$44k</td>\n",
       "      <td>$55,931</td>\n",
       "      <td>2 Ton 950 Kg</td>\n",
       "      <td>Apr 12 2002</td>\n",
       "      <td>R</td>\n",
       "      <td>advanced</td>\n",
       "      <td>M14341</td>\n",
       "      <td>IN732587</td>\n",
       "      <td>2.52 meters</td>\n",
       "      <td>100 cm</td>\n",
       "      <td>26 cm</td>\n",
       "    </tr>\n",
       "    <tr>\n",
       "      <th>3196</th>\n",
       "      <td>$128k</td>\n",
       "      <td>$44,370</td>\n",
       "      <td>2 Ton 980 Kg</td>\n",
       "      <td>Jun 13 2003</td>\n",
       "      <td>N</td>\n",
       "      <td>super advanced</td>\n",
       "      <td>NaN</td>\n",
       "      <td>NaN</td>\n",
       "      <td>2.96 meters</td>\n",
       "      <td>92 cm</td>\n",
       "      <td>24 cm</td>\n",
       "    </tr>\n",
       "  </tbody>\n",
       "</table>\n",
       "<p>3197 rows × 11 columns</p>\n",
       "</div>"
      ],
      "text/plain": [
       "       cost       price        weight purchase_date product_type  \\\n",
       "0     $333k    $300,492   3 Ton 90 Kg   Dec 19 2008          Q,B   \n",
       "1       NaN    $430,570   3 Ton 30 Kg   Sep 10 1997          J,D   \n",
       "2     $270k    $213,070   3 Ton 40 Kg   Sep 05 2001          J,D   \n",
       "3       NaN    $229,174   3 Ton 50 Kg   Dec 23 2016            U   \n",
       "4      $97k    $122,659  2 Ton 970 Kg   Jan 12 2000          D,R   \n",
       "...     ...         ...           ...           ...          ...   \n",
       "3192    NaN     $93,349    3 Ton 0 Kg   Nov 25 2016            D   \n",
       "3193    NaN     $40,384  2 Ton 830 Kg   May 25 2007          J,B   \n",
       "3194    NaN  $1,074,844   3 Ton 80 Kg   Dec 16 2016            C   \n",
       "3195   $44k     $55,931  2 Ton 950 Kg   Apr 12 2002            R   \n",
       "3196  $128k     $44,370  2 Ton 980 Kg   Jun 13 2003            N   \n",
       "\n",
       "       product_level          maker  \\\n",
       "0           advanced         M14122   \n",
       "1              basic            NaN   \n",
       "2              basic            NaN   \n",
       "3           advanced         M14123   \n",
       "4           advanced            NaN   \n",
       "...              ...            ...   \n",
       "3192        advanced         M14904   \n",
       "3193    intermediate         M14578   \n",
       "3194    intermediate  M14883,M15011   \n",
       "3195        advanced         M14341   \n",
       "3196  super advanced            NaN   \n",
       "\n",
       "                                             ingredient       height   width  \\\n",
       "0                                     IN732052,IN732053  2.76 meters   97 cm   \n",
       "1          IN732054,IN732055,IN732056,IN732057,IN732058  2.67 meters   98 cm   \n",
       "2                            IN732054,IN732059,IN732060   3.0 meters   93 cm   \n",
       "3                            IN732061,IN732062,IN732063   2.5 meters  102 cm   \n",
       "4                            IN732064,IN732065,IN732066  2.47 meters  101 cm   \n",
       "...                                                 ...          ...     ...   \n",
       "3192       IN732490,IN732338,IN732503,IN732435,IN732583  2.02 meters  112 cm   \n",
       "3193  IN732832,IN732166,IN733162,IN733785,IN732069,I...  2.15 meters  106 cm   \n",
       "3194  IN733462,IN732654,IN732149,IN733067,IN734088,I...  2.84 meters   96 cm   \n",
       "3195                                           IN732587  2.52 meters  100 cm   \n",
       "3196                                                NaN  2.96 meters   92 cm   \n",
       "\n",
       "      depth  \n",
       "0     26 cm  \n",
       "1     26 cm  \n",
       "2     24 cm  \n",
       "3     27 cm  \n",
       "4     26 cm  \n",
       "...     ...  \n",
       "3192  29 cm  \n",
       "3193  28 cm  \n",
       "3194  25 cm  \n",
       "3195  26 cm  \n",
       "3196  24 cm  \n",
       "\n",
       "[3197 rows x 11 columns]"
      ]
     },
     "execution_count": 6,
     "metadata": {},
     "output_type": "execute_result"
    }
   ],
   "source": [
    "df = pd.read_csv('./sales.csv')\n",
    "df"
   ]
  },
  {
   "cell_type": "code",
   "execution_count": 8,
   "id": "1d0708a4",
   "metadata": {},
   "outputs": [],
   "source": [
    "# load first few rows\n",
    "df2 = pd.read_csv('./sales.csv', nrows=500)\n"
   ]
  },
  {
   "cell_type": "code",
   "execution_count": null,
   "id": "495e33b4",
   "metadata": {},
   "outputs": [],
   "source": [
    "# pd.read_excel() for xsl, xslx files"
   ]
  },
  {
   "cell_type": "code",
   "execution_count": 9,
   "id": "7056bdc8",
   "metadata": {},
   "outputs": [
    {
     "data": {
      "text/html": [
       "<div>\n",
       "<style scoped>\n",
       "    .dataframe tbody tr th:only-of-type {\n",
       "        vertical-align: middle;\n",
       "    }\n",
       "\n",
       "    .dataframe tbody tr th {\n",
       "        vertical-align: top;\n",
       "    }\n",
       "\n",
       "    .dataframe thead th {\n",
       "        text-align: right;\n",
       "    }\n",
       "</style>\n",
       "<table border=\"1\" class=\"dataframe\">\n",
       "  <thead>\n",
       "    <tr style=\"text-align: right;\">\n",
       "      <th></th>\n",
       "      <th>cost</th>\n",
       "      <th>price</th>\n",
       "      <th>weight</th>\n",
       "      <th>purchase_date</th>\n",
       "      <th>product_type</th>\n",
       "      <th>product_level</th>\n",
       "      <th>maker</th>\n",
       "      <th>ingredient</th>\n",
       "      <th>height</th>\n",
       "      <th>width</th>\n",
       "      <th>depth</th>\n",
       "    </tr>\n",
       "  </thead>\n",
       "  <tbody>\n",
       "    <tr>\n",
       "      <th>0</th>\n",
       "      <td>$333k</td>\n",
       "      <td>$300,492</td>\n",
       "      <td>3 Ton 90 Kg</td>\n",
       "      <td>Dec 19 2008</td>\n",
       "      <td>Q,B</td>\n",
       "      <td>advanced</td>\n",
       "      <td>M14122</td>\n",
       "      <td>IN732052,IN732053</td>\n",
       "      <td>2.76 meters</td>\n",
       "      <td>97 cm</td>\n",
       "      <td>26 cm</td>\n",
       "    </tr>\n",
       "    <tr>\n",
       "      <th>1</th>\n",
       "      <td>NaN</td>\n",
       "      <td>$430,570</td>\n",
       "      <td>3 Ton 30 Kg</td>\n",
       "      <td>Sep 10 1997</td>\n",
       "      <td>J,D</td>\n",
       "      <td>basic</td>\n",
       "      <td>NaN</td>\n",
       "      <td>IN732054,IN732055,IN732056,IN732057,IN732058</td>\n",
       "      <td>2.67 meters</td>\n",
       "      <td>98 cm</td>\n",
       "      <td>26 cm</td>\n",
       "    </tr>\n",
       "    <tr>\n",
       "      <th>2</th>\n",
       "      <td>$270k</td>\n",
       "      <td>$213,070</td>\n",
       "      <td>3 Ton 40 Kg</td>\n",
       "      <td>Sep 05 2001</td>\n",
       "      <td>J,D</td>\n",
       "      <td>basic</td>\n",
       "      <td>NaN</td>\n",
       "      <td>IN732054,IN732059,IN732060</td>\n",
       "      <td>3.0 meters</td>\n",
       "      <td>93 cm</td>\n",
       "      <td>24 cm</td>\n",
       "    </tr>\n",
       "    <tr>\n",
       "      <th>3</th>\n",
       "      <td>NaN</td>\n",
       "      <td>$229,174</td>\n",
       "      <td>3 Ton 50 Kg</td>\n",
       "      <td>Dec 23 2016</td>\n",
       "      <td>U</td>\n",
       "      <td>advanced</td>\n",
       "      <td>M14123</td>\n",
       "      <td>IN732061,IN732062,IN732063</td>\n",
       "      <td>2.5 meters</td>\n",
       "      <td>102 cm</td>\n",
       "      <td>27 cm</td>\n",
       "    </tr>\n",
       "    <tr>\n",
       "      <th>4</th>\n",
       "      <td>$97k</td>\n",
       "      <td>$122,659</td>\n",
       "      <td>2 Ton 970 Kg</td>\n",
       "      <td>Jan 12 2000</td>\n",
       "      <td>D,R</td>\n",
       "      <td>advanced</td>\n",
       "      <td>NaN</td>\n",
       "      <td>IN732064,IN732065,IN732066</td>\n",
       "      <td>2.47 meters</td>\n",
       "      <td>101 cm</td>\n",
       "      <td>26 cm</td>\n",
       "    </tr>\n",
       "  </tbody>\n",
       "</table>\n",
       "</div>"
      ],
      "text/plain": [
       "    cost     price        weight purchase_date product_type product_level  \\\n",
       "0  $333k  $300,492   3 Ton 90 Kg   Dec 19 2008          Q,B      advanced   \n",
       "1    NaN  $430,570   3 Ton 30 Kg   Sep 10 1997          J,D         basic   \n",
       "2  $270k  $213,070   3 Ton 40 Kg   Sep 05 2001          J,D         basic   \n",
       "3    NaN  $229,174   3 Ton 50 Kg   Dec 23 2016            U      advanced   \n",
       "4   $97k  $122,659  2 Ton 970 Kg   Jan 12 2000          D,R      advanced   \n",
       "\n",
       "    maker                                    ingredient       height   width  \\\n",
       "0  M14122                             IN732052,IN732053  2.76 meters   97 cm   \n",
       "1     NaN  IN732054,IN732055,IN732056,IN732057,IN732058  2.67 meters   98 cm   \n",
       "2     NaN                    IN732054,IN732059,IN732060   3.0 meters   93 cm   \n",
       "3  M14123                    IN732061,IN732062,IN732063   2.5 meters  102 cm   \n",
       "4     NaN                    IN732064,IN732065,IN732066  2.47 meters  101 cm   \n",
       "\n",
       "   depth  \n",
       "0  26 cm  \n",
       "1  26 cm  \n",
       "2  24 cm  \n",
       "3  27 cm  \n",
       "4  26 cm  "
      ]
     },
     "execution_count": 9,
     "metadata": {},
     "output_type": "execute_result"
    }
   ],
   "source": [
    "df.head()"
   ]
  },
  {
   "cell_type": "code",
   "execution_count": 10,
   "id": "4f0ae907",
   "metadata": {},
   "outputs": [
    {
     "data": {
      "text/plain": [
       "Index(['cost', 'price', 'weight', 'purchase_date', 'product_type',\n",
       "       'product_level', 'maker', 'ingredient', 'height', 'width', 'depth'],\n",
       "      dtype='object')"
      ]
     },
     "execution_count": 10,
     "metadata": {},
     "output_type": "execute_result"
    }
   ],
   "source": [
    "df.columns"
   ]
  },
  {
   "cell_type": "code",
   "execution_count": 11,
   "id": "fe3f8e5b",
   "metadata": {},
   "outputs": [
    {
     "data": {
      "text/plain": [
       "RangeIndex(start=0, stop=3197, step=1)"
      ]
     },
     "execution_count": 11,
     "metadata": {},
     "output_type": "execute_result"
    }
   ],
   "source": [
    "df.index"
   ]
  },
  {
   "cell_type": "code",
   "execution_count": 12,
   "id": "b5d8453d",
   "metadata": {},
   "outputs": [
    {
     "data": {
      "text/plain": [
       "(3197, 11)"
      ]
     },
     "execution_count": 12,
     "metadata": {},
     "output_type": "execute_result"
    }
   ],
   "source": [
    "df.shape"
   ]
  },
  {
   "cell_type": "markdown",
   "id": "396db6c6",
   "metadata": {},
   "source": [
    "# get a column"
   ]
  },
  {
   "cell_type": "code",
   "execution_count": 13,
   "id": "cb0b932a",
   "metadata": {},
   "outputs": [
    {
     "data": {
      "text/plain": [
       "0       $333k\n",
       "1         NaN\n",
       "2       $270k\n",
       "3         NaN\n",
       "4        $97k\n",
       "        ...  \n",
       "3192      NaN\n",
       "3193      NaN\n",
       "3194      NaN\n",
       "3195     $44k\n",
       "3196    $128k\n",
       "Name: cost, Length: 3197, dtype: object"
      ]
     },
     "execution_count": 13,
     "metadata": {},
     "output_type": "execute_result"
    }
   ],
   "source": [
    "df.cost"
   ]
  },
  {
   "cell_type": "code",
   "execution_count": null,
   "id": "976c7c2e",
   "metadata": {},
   "outputs": [
    {
     "data": {
      "text/plain": [
       "0       $333k\n",
       "1         NaN\n",
       "2       $270k\n",
       "3         NaN\n",
       "4        $97k\n",
       "        ...  \n",
       "3192      NaN\n",
       "3193      NaN\n",
       "3194      NaN\n",
       "3195     $44k\n",
       "3196    $128k\n",
       "Name: cost, Length: 3197, dtype: object"
      ]
     },
     "execution_count": 14,
     "metadata": {},
     "output_type": "execute_result"
    }
   ],
   "source": [
    "df['cost'] # type object"
   ]
  },
  {
   "cell_type": "code",
   "execution_count": null,
   "id": "ccbee63f",
   "metadata": {},
   "outputs": [
    {
     "data": {
      "text/html": [
       "<div>\n",
       "<style scoped>\n",
       "    .dataframe tbody tr th:only-of-type {\n",
       "        vertical-align: middle;\n",
       "    }\n",
       "\n",
       "    .dataframe tbody tr th {\n",
       "        vertical-align: top;\n",
       "    }\n",
       "\n",
       "    .dataframe thead th {\n",
       "        text-align: right;\n",
       "    }\n",
       "</style>\n",
       "<table border=\"1\" class=\"dataframe\">\n",
       "  <thead>\n",
       "    <tr style=\"text-align: right;\">\n",
       "      <th></th>\n",
       "      <th>cost</th>\n",
       "    </tr>\n",
       "  </thead>\n",
       "  <tbody>\n",
       "    <tr>\n",
       "      <th>0</th>\n",
       "      <td>$333k</td>\n",
       "    </tr>\n",
       "    <tr>\n",
       "      <th>1</th>\n",
       "      <td>NaN</td>\n",
       "    </tr>\n",
       "    <tr>\n",
       "      <th>2</th>\n",
       "      <td>$270k</td>\n",
       "    </tr>\n",
       "    <tr>\n",
       "      <th>3</th>\n",
       "      <td>NaN</td>\n",
       "    </tr>\n",
       "    <tr>\n",
       "      <th>4</th>\n",
       "      <td>$97k</td>\n",
       "    </tr>\n",
       "    <tr>\n",
       "      <th>...</th>\n",
       "      <td>...</td>\n",
       "    </tr>\n",
       "    <tr>\n",
       "      <th>3192</th>\n",
       "      <td>NaN</td>\n",
       "    </tr>\n",
       "    <tr>\n",
       "      <th>3193</th>\n",
       "      <td>NaN</td>\n",
       "    </tr>\n",
       "    <tr>\n",
       "      <th>3194</th>\n",
       "      <td>NaN</td>\n",
       "    </tr>\n",
       "    <tr>\n",
       "      <th>3195</th>\n",
       "      <td>$44k</td>\n",
       "    </tr>\n",
       "    <tr>\n",
       "      <th>3196</th>\n",
       "      <td>$128k</td>\n",
       "    </tr>\n",
       "  </tbody>\n",
       "</table>\n",
       "<p>3197 rows × 1 columns</p>\n",
       "</div>"
      ],
      "text/plain": [
       "       cost\n",
       "0     $333k\n",
       "1       NaN\n",
       "2     $270k\n",
       "3       NaN\n",
       "4      $97k\n",
       "...     ...\n",
       "3192    NaN\n",
       "3193    NaN\n",
       "3194    NaN\n",
       "3195   $44k\n",
       "3196  $128k\n",
       "\n",
       "[3197 rows x 1 columns]"
      ]
     },
     "execution_count": 16,
     "metadata": {},
     "output_type": "execute_result"
    }
   ],
   "source": [
    "df[['cost']]  # type series"
   ]
  },
  {
   "cell_type": "code",
   "execution_count": 15,
   "id": "d0b7eb7b",
   "metadata": {},
   "outputs": [
    {
     "data": {
      "text/html": [
       "<div>\n",
       "<style scoped>\n",
       "    .dataframe tbody tr th:only-of-type {\n",
       "        vertical-align: middle;\n",
       "    }\n",
       "\n",
       "    .dataframe tbody tr th {\n",
       "        vertical-align: top;\n",
       "    }\n",
       "\n",
       "    .dataframe thead th {\n",
       "        text-align: right;\n",
       "    }\n",
       "</style>\n",
       "<table border=\"1\" class=\"dataframe\">\n",
       "  <thead>\n",
       "    <tr style=\"text-align: right;\">\n",
       "      <th></th>\n",
       "      <th>cost</th>\n",
       "      <th>price</th>\n",
       "    </tr>\n",
       "  </thead>\n",
       "  <tbody>\n",
       "    <tr>\n",
       "      <th>0</th>\n",
       "      <td>$333k</td>\n",
       "      <td>$300,492</td>\n",
       "    </tr>\n",
       "    <tr>\n",
       "      <th>1</th>\n",
       "      <td>NaN</td>\n",
       "      <td>$430,570</td>\n",
       "    </tr>\n",
       "    <tr>\n",
       "      <th>2</th>\n",
       "      <td>$270k</td>\n",
       "      <td>$213,070</td>\n",
       "    </tr>\n",
       "    <tr>\n",
       "      <th>3</th>\n",
       "      <td>NaN</td>\n",
       "      <td>$229,174</td>\n",
       "    </tr>\n",
       "    <tr>\n",
       "      <th>4</th>\n",
       "      <td>$97k</td>\n",
       "      <td>$122,659</td>\n",
       "    </tr>\n",
       "    <tr>\n",
       "      <th>...</th>\n",
       "      <td>...</td>\n",
       "      <td>...</td>\n",
       "    </tr>\n",
       "    <tr>\n",
       "      <th>3192</th>\n",
       "      <td>NaN</td>\n",
       "      <td>$93,349</td>\n",
       "    </tr>\n",
       "    <tr>\n",
       "      <th>3193</th>\n",
       "      <td>NaN</td>\n",
       "      <td>$40,384</td>\n",
       "    </tr>\n",
       "    <tr>\n",
       "      <th>3194</th>\n",
       "      <td>NaN</td>\n",
       "      <td>$1,074,844</td>\n",
       "    </tr>\n",
       "    <tr>\n",
       "      <th>3195</th>\n",
       "      <td>$44k</td>\n",
       "      <td>$55,931</td>\n",
       "    </tr>\n",
       "    <tr>\n",
       "      <th>3196</th>\n",
       "      <td>$128k</td>\n",
       "      <td>$44,370</td>\n",
       "    </tr>\n",
       "  </tbody>\n",
       "</table>\n",
       "<p>3197 rows × 2 columns</p>\n",
       "</div>"
      ],
      "text/plain": [
       "       cost       price\n",
       "0     $333k    $300,492\n",
       "1       NaN    $430,570\n",
       "2     $270k    $213,070\n",
       "3       NaN    $229,174\n",
       "4      $97k    $122,659\n",
       "...     ...         ...\n",
       "3192    NaN     $93,349\n",
       "3193    NaN     $40,384\n",
       "3194    NaN  $1,074,844\n",
       "3195   $44k     $55,931\n",
       "3196  $128k     $44,370\n",
       "\n",
       "[3197 rows x 2 columns]"
      ]
     },
     "execution_count": 15,
     "metadata": {},
     "output_type": "execute_result"
    }
   ],
   "source": [
    "df[['cost','price']]"
   ]
  },
  {
   "cell_type": "markdown",
   "id": "95a8a2e0",
   "metadata": {},
   "source": [
    "# get a subset of the data"
   ]
  },
  {
   "cell_type": "code",
   "execution_count": 17,
   "id": "d7ca72ad",
   "metadata": {},
   "outputs": [
    {
     "data": {
      "text/html": [
       "<div>\n",
       "<style scoped>\n",
       "    .dataframe tbody tr th:only-of-type {\n",
       "        vertical-align: middle;\n",
       "    }\n",
       "\n",
       "    .dataframe tbody tr th {\n",
       "        vertical-align: top;\n",
       "    }\n",
       "\n",
       "    .dataframe thead th {\n",
       "        text-align: right;\n",
       "    }\n",
       "</style>\n",
       "<table border=\"1\" class=\"dataframe\">\n",
       "  <thead>\n",
       "    <tr style=\"text-align: right;\">\n",
       "      <th></th>\n",
       "      <th>cost</th>\n",
       "      <th>price</th>\n",
       "      <th>weight</th>\n",
       "      <th>purchase_date</th>\n",
       "      <th>product_type</th>\n",
       "      <th>product_level</th>\n",
       "      <th>maker</th>\n",
       "      <th>ingredient</th>\n",
       "      <th>height</th>\n",
       "      <th>width</th>\n",
       "      <th>depth</th>\n",
       "    </tr>\n",
       "  </thead>\n",
       "  <tbody>\n",
       "    <tr>\n",
       "      <th>5</th>\n",
       "      <td>$59k</td>\n",
       "      <td>$60,320</td>\n",
       "      <td>2 Ton 930 Kg</td>\n",
       "      <td>Aug 19 2011</td>\n",
       "      <td>H</td>\n",
       "      <td>super advanced</td>\n",
       "      <td>M14124</td>\n",
       "      <td>IN732067,IN732068,IN732069,IN732070,IN732071,I...</td>\n",
       "      <td>2.71 meters</td>\n",
       "      <td>96 cm</td>\n",
       "      <td>25 cm</td>\n",
       "    </tr>\n",
       "    <tr>\n",
       "      <th>6</th>\n",
       "      <td>NaN</td>\n",
       "      <td>$182,233</td>\n",
       "      <td>3 Ton 300 Kg</td>\n",
       "      <td>Oct 11 1996</td>\n",
       "      <td>S</td>\n",
       "      <td>super advanced</td>\n",
       "      <td>M14125</td>\n",
       "      <td>IN732073,IN732074</td>\n",
       "      <td>3.01 meters</td>\n",
       "      <td>96 cm</td>\n",
       "      <td>25 cm</td>\n",
       "    </tr>\n",
       "    <tr>\n",
       "      <th>7</th>\n",
       "      <td>NaN</td>\n",
       "      <td>$41,155</td>\n",
       "      <td>3 Ton 80 Kg</td>\n",
       "      <td>Jan 08 2010</td>\n",
       "      <td>B,A</td>\n",
       "      <td>advanced</td>\n",
       "      <td>M14126</td>\n",
       "      <td>IN732075</td>\n",
       "      <td>2.97 meters</td>\n",
       "      <td>94 cm</td>\n",
       "      <td>25 cm</td>\n",
       "    </tr>\n",
       "    <tr>\n",
       "      <th>8</th>\n",
       "      <td>$66k</td>\n",
       "      <td>$180,759</td>\n",
       "      <td>3 Ton 330 Kg</td>\n",
       "      <td>Aug 01 2014</td>\n",
       "      <td>H</td>\n",
       "      <td>super advanced</td>\n",
       "      <td>NaN</td>\n",
       "      <td>IN732076,IN732077,IN732073,IN732078,IN732079,I...</td>\n",
       "      <td>2.71 meters</td>\n",
       "      <td>102 cm</td>\n",
       "      <td>27 cm</td>\n",
       "    </tr>\n",
       "    <tr>\n",
       "      <th>9</th>\n",
       "      <td>$119k</td>\n",
       "      <td>$182,517</td>\n",
       "      <td>2 Ton 970 Kg</td>\n",
       "      <td>Feb 04 2005</td>\n",
       "      <td>K,D</td>\n",
       "      <td>advanced</td>\n",
       "      <td>M14127</td>\n",
       "      <td>IN732085,IN732086,IN732087</td>\n",
       "      <td>2.84 meters</td>\n",
       "      <td>94 cm</td>\n",
       "      <td>25 cm</td>\n",
       "    </tr>\n",
       "    <tr>\n",
       "      <th>10</th>\n",
       "      <td>$160k</td>\n",
       "      <td>$168,762</td>\n",
       "      <td>3 Ton 440 Kg</td>\n",
       "      <td>Oct 28 2016</td>\n",
       "      <td>H</td>\n",
       "      <td>super advanced</td>\n",
       "      <td>M14128</td>\n",
       "      <td>IN732088,IN732089,IN732090,IN732091,IN732092</td>\n",
       "      <td>2.91 meters</td>\n",
       "      <td>100 cm</td>\n",
       "      <td>26 cm</td>\n",
       "    </tr>\n",
       "    <tr>\n",
       "      <th>11</th>\n",
       "      <td>$81k</td>\n",
       "      <td>$228,868</td>\n",
       "      <td>2 Ton 940 Kg</td>\n",
       "      <td>Apr 04 2008</td>\n",
       "      <td>N</td>\n",
       "      <td>advanced</td>\n",
       "      <td>M14129</td>\n",
       "      <td>IN732093,IN732094,IN732095,IN732096</td>\n",
       "      <td>2.52 meters</td>\n",
       "      <td>99 cm</td>\n",
       "      <td>26 cm</td>\n",
       "    </tr>\n",
       "    <tr>\n",
       "      <th>12</th>\n",
       "      <td>$191k</td>\n",
       "      <td>$79,384</td>\n",
       "      <td>3 Ton 200 Kg</td>\n",
       "      <td>Dec 21 2001</td>\n",
       "      <td>U</td>\n",
       "      <td>super advanced</td>\n",
       "      <td>M14130</td>\n",
       "      <td>IN732097,IN732098,IN732099,IN732100,IN732101</td>\n",
       "      <td>2.87 meters</td>\n",
       "      <td>97 cm</td>\n",
       "      <td>25 cm</td>\n",
       "    </tr>\n",
       "    <tr>\n",
       "      <th>13</th>\n",
       "      <td>NaN</td>\n",
       "      <td>$118,628</td>\n",
       "      <td>3 Ton 50 Kg</td>\n",
       "      <td>Dec 15 2006</td>\n",
       "      <td>U,A</td>\n",
       "      <td>advanced</td>\n",
       "      <td>M14131</td>\n",
       "      <td>IN732074,IN732102</td>\n",
       "      <td>2.63 meters</td>\n",
       "      <td>99 cm</td>\n",
       "      <td>26 cm</td>\n",
       "    </tr>\n",
       "    <tr>\n",
       "      <th>14</th>\n",
       "      <td>NaN</td>\n",
       "      <td>$204,305</td>\n",
       "      <td>3 Ton 20 Kg</td>\n",
       "      <td>Jan 29 2010</td>\n",
       "      <td>K,D</td>\n",
       "      <td>advanced</td>\n",
       "      <td>M14132</td>\n",
       "      <td>IN732103,IN732104,IN732105,IN732106</td>\n",
       "      <td>2.54 meters</td>\n",
       "      <td>100 cm</td>\n",
       "      <td>26 cm</td>\n",
       "    </tr>\n",
       "  </tbody>\n",
       "</table>\n",
       "</div>"
      ],
      "text/plain": [
       "     cost     price        weight purchase_date product_type   product_level  \\\n",
       "5    $59k   $60,320  2 Ton 930 Kg   Aug 19 2011            H  super advanced   \n",
       "6     NaN  $182,233  3 Ton 300 Kg   Oct 11 1996            S  super advanced   \n",
       "7     NaN   $41,155   3 Ton 80 Kg   Jan 08 2010          B,A        advanced   \n",
       "8    $66k  $180,759  3 Ton 330 Kg   Aug 01 2014            H  super advanced   \n",
       "9   $119k  $182,517  2 Ton 970 Kg   Feb 04 2005          K,D        advanced   \n",
       "10  $160k  $168,762  3 Ton 440 Kg   Oct 28 2016            H  super advanced   \n",
       "11   $81k  $228,868  2 Ton 940 Kg   Apr 04 2008            N        advanced   \n",
       "12  $191k   $79,384  3 Ton 200 Kg   Dec 21 2001            U  super advanced   \n",
       "13    NaN  $118,628   3 Ton 50 Kg   Dec 15 2006          U,A        advanced   \n",
       "14    NaN  $204,305   3 Ton 20 Kg   Jan 29 2010          K,D        advanced   \n",
       "\n",
       "     maker                                         ingredient       height  \\\n",
       "5   M14124  IN732067,IN732068,IN732069,IN732070,IN732071,I...  2.71 meters   \n",
       "6   M14125                                  IN732073,IN732074  3.01 meters   \n",
       "7   M14126                                           IN732075  2.97 meters   \n",
       "8      NaN  IN732076,IN732077,IN732073,IN732078,IN732079,I...  2.71 meters   \n",
       "9   M14127                         IN732085,IN732086,IN732087  2.84 meters   \n",
       "10  M14128       IN732088,IN732089,IN732090,IN732091,IN732092  2.91 meters   \n",
       "11  M14129                IN732093,IN732094,IN732095,IN732096  2.52 meters   \n",
       "12  M14130       IN732097,IN732098,IN732099,IN732100,IN732101  2.87 meters   \n",
       "13  M14131                                  IN732074,IN732102  2.63 meters   \n",
       "14  M14132                IN732103,IN732104,IN732105,IN732106  2.54 meters   \n",
       "\n",
       "     width  depth  \n",
       "5    96 cm  25 cm  \n",
       "6    96 cm  25 cm  \n",
       "7    94 cm  25 cm  \n",
       "8   102 cm  27 cm  \n",
       "9    94 cm  25 cm  \n",
       "10  100 cm  26 cm  \n",
       "11   99 cm  26 cm  \n",
       "12   97 cm  25 cm  \n",
       "13   99 cm  26 cm  \n",
       "14  100 cm  26 cm  "
      ]
     },
     "execution_count": 17,
     "metadata": {},
     "output_type": "execute_result"
    }
   ],
   "source": [
    "df.iloc[5:15,:]"
   ]
  },
  {
   "cell_type": "markdown",
   "id": "a13b4588",
   "metadata": {},
   "source": [
    "get submatrix"
   ]
  },
  {
   "cell_type": "markdown",
   "id": "8fde1aa5",
   "metadata": {},
   "source": [
    "loc - selects data using row and column names (labels)\n",
    "\n",
    "iloc - selects data using indices (positions)"
   ]
  },
  {
   "cell_type": "code",
   "execution_count": 19,
   "id": "5ad96666",
   "metadata": {},
   "outputs": [
    {
     "data": {
      "text/html": [
       "<div>\n",
       "<style scoped>\n",
       "    .dataframe tbody tr th:only-of-type {\n",
       "        vertical-align: middle;\n",
       "    }\n",
       "\n",
       "    .dataframe tbody tr th {\n",
       "        vertical-align: top;\n",
       "    }\n",
       "\n",
       "    .dataframe thead th {\n",
       "        text-align: right;\n",
       "    }\n",
       "</style>\n",
       "<table border=\"1\" class=\"dataframe\">\n",
       "  <thead>\n",
       "    <tr style=\"text-align: right;\">\n",
       "      <th></th>\n",
       "      <th>cost</th>\n",
       "      <th>price</th>\n",
       "      <th>weight</th>\n",
       "      <th>purchase_date</th>\n",
       "      <th>product_type</th>\n",
       "    </tr>\n",
       "  </thead>\n",
       "  <tbody>\n",
       "    <tr>\n",
       "      <th>5</th>\n",
       "      <td>$59k</td>\n",
       "      <td>$60,320</td>\n",
       "      <td>2 Ton 930 Kg</td>\n",
       "      <td>Aug 19 2011</td>\n",
       "      <td>H</td>\n",
       "    </tr>\n",
       "    <tr>\n",
       "      <th>6</th>\n",
       "      <td>NaN</td>\n",
       "      <td>$182,233</td>\n",
       "      <td>3 Ton 300 Kg</td>\n",
       "      <td>Oct 11 1996</td>\n",
       "      <td>S</td>\n",
       "    </tr>\n",
       "    <tr>\n",
       "      <th>7</th>\n",
       "      <td>NaN</td>\n",
       "      <td>$41,155</td>\n",
       "      <td>3 Ton 80 Kg</td>\n",
       "      <td>Jan 08 2010</td>\n",
       "      <td>B,A</td>\n",
       "    </tr>\n",
       "    <tr>\n",
       "      <th>8</th>\n",
       "      <td>$66k</td>\n",
       "      <td>$180,759</td>\n",
       "      <td>3 Ton 330 Kg</td>\n",
       "      <td>Aug 01 2014</td>\n",
       "      <td>H</td>\n",
       "    </tr>\n",
       "    <tr>\n",
       "      <th>9</th>\n",
       "      <td>$119k</td>\n",
       "      <td>$182,517</td>\n",
       "      <td>2 Ton 970 Kg</td>\n",
       "      <td>Feb 04 2005</td>\n",
       "      <td>K,D</td>\n",
       "    </tr>\n",
       "    <tr>\n",
       "      <th>10</th>\n",
       "      <td>$160k</td>\n",
       "      <td>$168,762</td>\n",
       "      <td>3 Ton 440 Kg</td>\n",
       "      <td>Oct 28 2016</td>\n",
       "      <td>H</td>\n",
       "    </tr>\n",
       "    <tr>\n",
       "      <th>11</th>\n",
       "      <td>$81k</td>\n",
       "      <td>$228,868</td>\n",
       "      <td>2 Ton 940 Kg</td>\n",
       "      <td>Apr 04 2008</td>\n",
       "      <td>N</td>\n",
       "    </tr>\n",
       "    <tr>\n",
       "      <th>12</th>\n",
       "      <td>$191k</td>\n",
       "      <td>$79,384</td>\n",
       "      <td>3 Ton 200 Kg</td>\n",
       "      <td>Dec 21 2001</td>\n",
       "      <td>U</td>\n",
       "    </tr>\n",
       "    <tr>\n",
       "      <th>13</th>\n",
       "      <td>NaN</td>\n",
       "      <td>$118,628</td>\n",
       "      <td>3 Ton 50 Kg</td>\n",
       "      <td>Dec 15 2006</td>\n",
       "      <td>U,A</td>\n",
       "    </tr>\n",
       "    <tr>\n",
       "      <th>14</th>\n",
       "      <td>NaN</td>\n",
       "      <td>$204,305</td>\n",
       "      <td>3 Ton 20 Kg</td>\n",
       "      <td>Jan 29 2010</td>\n",
       "      <td>K,D</td>\n",
       "    </tr>\n",
       "  </tbody>\n",
       "</table>\n",
       "</div>"
      ],
      "text/plain": [
       "     cost     price        weight purchase_date product_type\n",
       "5    $59k   $60,320  2 Ton 930 Kg   Aug 19 2011            H\n",
       "6     NaN  $182,233  3 Ton 300 Kg   Oct 11 1996            S\n",
       "7     NaN   $41,155   3 Ton 80 Kg   Jan 08 2010          B,A\n",
       "8    $66k  $180,759  3 Ton 330 Kg   Aug 01 2014            H\n",
       "9   $119k  $182,517  2 Ton 970 Kg   Feb 04 2005          K,D\n",
       "10  $160k  $168,762  3 Ton 440 Kg   Oct 28 2016            H\n",
       "11   $81k  $228,868  2 Ton 940 Kg   Apr 04 2008            N\n",
       "12  $191k   $79,384  3 Ton 200 Kg   Dec 21 2001            U\n",
       "13    NaN  $118,628   3 Ton 50 Kg   Dec 15 2006          U,A\n",
       "14    NaN  $204,305   3 Ton 20 Kg   Jan 29 2010          K,D"
      ]
     },
     "execution_count": 19,
     "metadata": {},
     "output_type": "execute_result"
    }
   ],
   "source": [
    "df.iloc[5:15,0:5]"
   ]
  },
  {
   "cell_type": "code",
   "execution_count": 22,
   "id": "66f89cb0",
   "metadata": {},
   "outputs": [
    {
     "data": {
      "text/html": [
       "<div>\n",
       "<style scoped>\n",
       "    .dataframe tbody tr th:only-of-type {\n",
       "        vertical-align: middle;\n",
       "    }\n",
       "\n",
       "    .dataframe tbody tr th {\n",
       "        vertical-align: top;\n",
       "    }\n",
       "\n",
       "    .dataframe thead th {\n",
       "        text-align: right;\n",
       "    }\n",
       "</style>\n",
       "<table border=\"1\" class=\"dataframe\">\n",
       "  <thead>\n",
       "    <tr style=\"text-align: right;\">\n",
       "      <th></th>\n",
       "      <th>weight</th>\n",
       "      <th>purchase_date</th>\n",
       "      <th>product_type</th>\n",
       "    </tr>\n",
       "  </thead>\n",
       "  <tbody>\n",
       "    <tr>\n",
       "      <th>5</th>\n",
       "      <td>2 Ton 930 Kg</td>\n",
       "      <td>Aug 19 2011</td>\n",
       "      <td>H</td>\n",
       "    </tr>\n",
       "    <tr>\n",
       "      <th>6</th>\n",
       "      <td>3 Ton 300 Kg</td>\n",
       "      <td>Oct 11 1996</td>\n",
       "      <td>S</td>\n",
       "    </tr>\n",
       "    <tr>\n",
       "      <th>7</th>\n",
       "      <td>3 Ton 80 Kg</td>\n",
       "      <td>Jan 08 2010</td>\n",
       "      <td>B,A</td>\n",
       "    </tr>\n",
       "    <tr>\n",
       "      <th>8</th>\n",
       "      <td>3 Ton 330 Kg</td>\n",
       "      <td>Aug 01 2014</td>\n",
       "      <td>H</td>\n",
       "    </tr>\n",
       "    <tr>\n",
       "      <th>9</th>\n",
       "      <td>2 Ton 970 Kg</td>\n",
       "      <td>Feb 04 2005</td>\n",
       "      <td>K,D</td>\n",
       "    </tr>\n",
       "    <tr>\n",
       "      <th>10</th>\n",
       "      <td>3 Ton 440 Kg</td>\n",
       "      <td>Oct 28 2016</td>\n",
       "      <td>H</td>\n",
       "    </tr>\n",
       "    <tr>\n",
       "      <th>11</th>\n",
       "      <td>2 Ton 940 Kg</td>\n",
       "      <td>Apr 04 2008</td>\n",
       "      <td>N</td>\n",
       "    </tr>\n",
       "    <tr>\n",
       "      <th>12</th>\n",
       "      <td>3 Ton 200 Kg</td>\n",
       "      <td>Dec 21 2001</td>\n",
       "      <td>U</td>\n",
       "    </tr>\n",
       "    <tr>\n",
       "      <th>13</th>\n",
       "      <td>3 Ton 50 Kg</td>\n",
       "      <td>Dec 15 2006</td>\n",
       "      <td>U,A</td>\n",
       "    </tr>\n",
       "    <tr>\n",
       "      <th>14</th>\n",
       "      <td>3 Ton 20 Kg</td>\n",
       "      <td>Jan 29 2010</td>\n",
       "      <td>K,D</td>\n",
       "    </tr>\n",
       "    <tr>\n",
       "      <th>15</th>\n",
       "      <td>3 Ton 190 Kg</td>\n",
       "      <td>May 13 1998</td>\n",
       "      <td>H</td>\n",
       "    </tr>\n",
       "  </tbody>\n",
       "</table>\n",
       "</div>"
      ],
      "text/plain": [
       "          weight purchase_date product_type\n",
       "5   2 Ton 930 Kg   Aug 19 2011            H\n",
       "6   3 Ton 300 Kg   Oct 11 1996            S\n",
       "7    3 Ton 80 Kg   Jan 08 2010          B,A\n",
       "8   3 Ton 330 Kg   Aug 01 2014            H\n",
       "9   2 Ton 970 Kg   Feb 04 2005          K,D\n",
       "10  3 Ton 440 Kg   Oct 28 2016            H\n",
       "11  2 Ton 940 Kg   Apr 04 2008            N\n",
       "12  3 Ton 200 Kg   Dec 21 2001            U\n",
       "13   3 Ton 50 Kg   Dec 15 2006          U,A\n",
       "14   3 Ton 20 Kg   Jan 29 2010          K,D\n",
       "15  3 Ton 190 Kg   May 13 1998            H"
      ]
     },
     "execution_count": 22,
     "metadata": {},
     "output_type": "execute_result"
    }
   ],
   "source": [
    "df.loc[5:15,\"weight\":\"product_type\"]"
   ]
  },
  {
   "cell_type": "markdown",
   "id": "49eff1f1",
   "metadata": {},
   "source": []
  },
  {
   "cell_type": "code",
   "execution_count": 24,
   "id": "b3e5dce4",
   "metadata": {},
   "outputs": [
    {
     "data": {
      "text/html": [
       "<div>\n",
       "<style scoped>\n",
       "    .dataframe tbody tr th:only-of-type {\n",
       "        vertical-align: middle;\n",
       "    }\n",
       "\n",
       "    .dataframe tbody tr th {\n",
       "        vertical-align: top;\n",
       "    }\n",
       "\n",
       "    .dataframe thead th {\n",
       "        text-align: right;\n",
       "    }\n",
       "</style>\n",
       "<table border=\"1\" class=\"dataframe\">\n",
       "  <thead>\n",
       "    <tr style=\"text-align: right;\">\n",
       "      <th></th>\n",
       "      <th>cost</th>\n",
       "      <th>price</th>\n",
       "      <th>weight</th>\n",
       "      <th>purchase_date</th>\n",
       "      <th>product_type</th>\n",
       "      <th>product_level</th>\n",
       "      <th>maker</th>\n",
       "      <th>ingredient</th>\n",
       "      <th>height</th>\n",
       "      <th>width</th>\n",
       "      <th>depth</th>\n",
       "    </tr>\n",
       "  </thead>\n",
       "  <tbody>\n",
       "    <tr>\n",
       "      <th>0</th>\n",
       "      <td>$333k</td>\n",
       "      <td>$300,492</td>\n",
       "      <td>3 Ton 90 Kg</td>\n",
       "      <td>Dec 19 2008</td>\n",
       "      <td>Q,B</td>\n",
       "      <td>advanced</td>\n",
       "      <td>M14122</td>\n",
       "      <td>IN732052,IN732053</td>\n",
       "      <td>2.76 meters</td>\n",
       "      <td>97 cm</td>\n",
       "      <td>26 cm</td>\n",
       "    </tr>\n",
       "    <tr>\n",
       "      <th>3</th>\n",
       "      <td>NaN</td>\n",
       "      <td>$229,174</td>\n",
       "      <td>3 Ton 50 Kg</td>\n",
       "      <td>Dec 23 2016</td>\n",
       "      <td>U</td>\n",
       "      <td>advanced</td>\n",
       "      <td>M14123</td>\n",
       "      <td>IN732061,IN732062,IN732063</td>\n",
       "      <td>2.5 meters</td>\n",
       "      <td>102 cm</td>\n",
       "      <td>27 cm</td>\n",
       "    </tr>\n",
       "    <tr>\n",
       "      <th>4</th>\n",
       "      <td>$97k</td>\n",
       "      <td>$122,659</td>\n",
       "      <td>2 Ton 970 Kg</td>\n",
       "      <td>Jan 12 2000</td>\n",
       "      <td>D,R</td>\n",
       "      <td>advanced</td>\n",
       "      <td>NaN</td>\n",
       "      <td>IN732064,IN732065,IN732066</td>\n",
       "      <td>2.47 meters</td>\n",
       "      <td>101 cm</td>\n",
       "      <td>26 cm</td>\n",
       "    </tr>\n",
       "    <tr>\n",
       "      <th>7</th>\n",
       "      <td>NaN</td>\n",
       "      <td>$41,155</td>\n",
       "      <td>3 Ton 80 Kg</td>\n",
       "      <td>Jan 08 2010</td>\n",
       "      <td>B,A</td>\n",
       "      <td>advanced</td>\n",
       "      <td>M14126</td>\n",
       "      <td>IN732075</td>\n",
       "      <td>2.97 meters</td>\n",
       "      <td>94 cm</td>\n",
       "      <td>25 cm</td>\n",
       "    </tr>\n",
       "    <tr>\n",
       "      <th>9</th>\n",
       "      <td>$119k</td>\n",
       "      <td>$182,517</td>\n",
       "      <td>2 Ton 970 Kg</td>\n",
       "      <td>Feb 04 2005</td>\n",
       "      <td>K,D</td>\n",
       "      <td>advanced</td>\n",
       "      <td>M14127</td>\n",
       "      <td>IN732085,IN732086,IN732087</td>\n",
       "      <td>2.84 meters</td>\n",
       "      <td>94 cm</td>\n",
       "      <td>25 cm</td>\n",
       "    </tr>\n",
       "  </tbody>\n",
       "</table>\n",
       "</div>"
      ],
      "text/plain": [
       "    cost     price        weight purchase_date product_type product_level  \\\n",
       "0  $333k  $300,492   3 Ton 90 Kg   Dec 19 2008          Q,B      advanced   \n",
       "3    NaN  $229,174   3 Ton 50 Kg   Dec 23 2016            U      advanced   \n",
       "4   $97k  $122,659  2 Ton 970 Kg   Jan 12 2000          D,R      advanced   \n",
       "7    NaN   $41,155   3 Ton 80 Kg   Jan 08 2010          B,A      advanced   \n",
       "9  $119k  $182,517  2 Ton 970 Kg   Feb 04 2005          K,D      advanced   \n",
       "\n",
       "    maker                  ingredient       height   width  depth  \n",
       "0  M14122           IN732052,IN732053  2.76 meters   97 cm  26 cm  \n",
       "3  M14123  IN732061,IN732062,IN732063   2.5 meters  102 cm  27 cm  \n",
       "4     NaN  IN732064,IN732065,IN732066  2.47 meters  101 cm  26 cm  \n",
       "7  M14126                    IN732075  2.97 meters   94 cm  25 cm  \n",
       "9  M14127  IN732085,IN732086,IN732087  2.84 meters   94 cm  25 cm  "
      ]
     },
     "execution_count": 24,
     "metadata": {},
     "output_type": "execute_result"
    }
   ],
   "source": [
    "df[df.product_level=='advanced'].head()"
   ]
  },
  {
   "cell_type": "markdown",
   "id": "45ce77fc",
   "metadata": {},
   "source": [
    "# count(), value_count()"
   ]
  },
  {
   "cell_type": "code",
   "execution_count": null,
   "id": "bd78c741",
   "metadata": {},
   "outputs": [
    {
     "data": {
      "text/plain": [
       "cost             2216\n",
       "price            3186\n",
       "weight           3193\n",
       "purchase_date    3196\n",
       "product_type     3196\n",
       "product_level    3196\n",
       "maker            2373\n",
       "ingredient       2941\n",
       "height           3197\n",
       "width            3193\n",
       "depth            3193\n",
       "dtype: int64"
      ]
     },
     "execution_count": 25,
     "metadata": {},
     "output_type": "execute_result"
    }
   ],
   "source": [
    "df.count() # count notna values for each column"
   ]
  },
  {
   "cell_type": "code",
   "execution_count": 66,
   "id": "1c473970",
   "metadata": {},
   "outputs": [
    {
     "data": {
      "text/plain": [
       "981"
      ]
     },
     "execution_count": 66,
     "metadata": {},
     "output_type": "execute_result"
    }
   ],
   "source": [
    "# number of missing values\n",
    "len(df.cost) - df.cost.count()"
   ]
  },
  {
   "cell_type": "code",
   "execution_count": 26,
   "id": "bbc4acb6",
   "metadata": {},
   "outputs": [
    {
     "data": {
      "text/plain": [
       "(3197, 11)"
      ]
     },
     "execution_count": 26,
     "metadata": {},
     "output_type": "execute_result"
    }
   ],
   "source": [
    "df.shape"
   ]
  },
  {
   "cell_type": "code",
   "execution_count": null,
   "id": "3068d3f0",
   "metadata": {},
   "outputs": [
    {
     "data": {
      "text/plain": [
       "cost\n",
       "$66k     104\n",
       "$97k     101\n",
       "$128k     92\n",
       "$113k     90\n",
       "$81k      84\n",
       "        ... \n",
       "$30k       1\n",
       "$49k       1\n",
       "$694k      1\n",
       "$471k      1\n",
       "$77k       1\n",
       "Name: count, Length: 185, dtype: int64"
      ]
     },
     "execution_count": 30,
     "metadata": {},
     "output_type": "execute_result"
    }
   ],
   "source": [
    "df['cost'].value_counts() # get counts for each value (excluding NaN)"
   ]
  },
  {
   "cell_type": "code",
   "execution_count": null,
   "id": "8482fd49",
   "metadata": {},
   "outputs": [
    {
     "data": {
      "text/plain": [
       "2216"
      ]
     },
     "execution_count": 31,
     "metadata": {},
     "output_type": "execute_result"
    }
   ],
   "source": [
    "df['cost'].value_counts().sum() # "
   ]
  },
  {
   "cell_type": "code",
   "execution_count": null,
   "id": "8bf64ff8",
   "metadata": {},
   "outputs": [
    {
     "data": {
      "text/plain": [
       "2216"
      ]
     },
     "execution_count": 27,
     "metadata": {},
     "output_type": "execute_result"
    }
   ],
   "source": [
    "df['cost'].count() # count non-null values"
   ]
  },
  {
   "cell_type": "code",
   "execution_count": null,
   "id": "dccf96f6",
   "metadata": {},
   "outputs": [
    {
     "data": {
      "text/plain": [
       "cost\n",
       "NaN      981\n",
       "$66k     104\n",
       "$97k     101\n",
       "$128k     92\n",
       "$113k     90\n",
       "        ... \n",
       "$30k       1\n",
       "$49k       1\n",
       "$694k      1\n",
       "$471k      1\n",
       "$77k       1\n",
       "Name: count, Length: 186, dtype: int64"
      ]
     },
     "execution_count": 34,
     "metadata": {},
     "output_type": "execute_result"
    }
   ],
   "source": [
    "df['cost'].value_counts(dropna=False) # including nan"
   ]
  },
  {
   "cell_type": "code",
   "execution_count": 36,
   "id": "a4dfe12f",
   "metadata": {},
   "outputs": [
    {
     "data": {
      "text/plain": [
       "0        True\n",
       "1       False\n",
       "2        True\n",
       "3       False\n",
       "4        True\n",
       "        ...  \n",
       "3192    False\n",
       "3193    False\n",
       "3194    False\n",
       "3195     True\n",
       "3196     True\n",
       "Name: cost, Length: 3197, dtype: bool"
      ]
     },
     "execution_count": 36,
     "metadata": {},
     "output_type": "execute_result"
    }
   ],
   "source": [
    "df['cost'].notna()"
   ]
  },
  {
   "cell_type": "code",
   "execution_count": 37,
   "id": "83820664",
   "metadata": {},
   "outputs": [
    {
     "data": {
      "text/plain": [
       "0        True\n",
       "1       False\n",
       "2        True\n",
       "3       False\n",
       "4        True\n",
       "        ...  \n",
       "3192    False\n",
       "3193    False\n",
       "3194    False\n",
       "3195     True\n",
       "3196     True\n",
       "Name: cost, Length: 3197, dtype: bool"
      ]
     },
     "execution_count": 37,
     "metadata": {},
     "output_type": "execute_result"
    }
   ],
   "source": [
    "df.cost.notna()"
   ]
  },
  {
   "cell_type": "code",
   "execution_count": 99,
   "id": "0012a4da",
   "metadata": {},
   "outputs": [
    {
     "data": {
      "text/plain": [
       "0       False\n",
       "1        True\n",
       "2       False\n",
       "3        True\n",
       "4       False\n",
       "        ...  \n",
       "3192     True\n",
       "3193     True\n",
       "3194     True\n",
       "3195    False\n",
       "3196    False\n",
       "Name: cost, Length: 3197, dtype: bool"
      ]
     },
     "execution_count": 99,
     "metadata": {},
     "output_type": "execute_result"
    }
   ],
   "source": [
    "df.cost.isna()"
   ]
  },
  {
   "cell_type": "code",
   "execution_count": 39,
   "id": "3648d569",
   "metadata": {},
   "outputs": [
    {
     "data": {
      "text/plain": [
       "0       $333k\n",
       "2       $270k\n",
       "4        $97k\n",
       "5        $59k\n",
       "8        $66k\n",
       "        ...  \n",
       "3189     $77k\n",
       "3190    $254k\n",
       "3191     $91k\n",
       "3195     $44k\n",
       "3196    $128k\n",
       "Name: cost, Length: 2216, dtype: object"
      ]
     },
     "execution_count": 39,
     "metadata": {},
     "output_type": "execute_result"
    }
   ],
   "source": [
    "df['cost'][df.cost.notna()]"
   ]
  },
  {
   "cell_type": "markdown",
   "id": "cfb1270f",
   "metadata": {},
   "source": [
    "NaN values are of type float"
   ]
  },
  {
   "cell_type": "code",
   "execution_count": 107,
   "id": "aa48a9b4",
   "metadata": {},
   "outputs": [],
   "source": [
    "cost_nan = df['cost'][df.cost.isna()]"
   ]
  },
  {
   "cell_type": "code",
   "execution_count": 112,
   "id": "673148df",
   "metadata": {},
   "outputs": [
    {
     "data": {
      "text/plain": [
       "float"
      ]
     },
     "execution_count": 112,
     "metadata": {},
     "output_type": "execute_result"
    }
   ],
   "source": [
    "type(cost_nan.iloc[0])"
   ]
  },
  {
   "cell_type": "code",
   "execution_count": 115,
   "id": "0b239353",
   "metadata": {},
   "outputs": [
    {
     "data": {
      "text/plain": [
       "float"
      ]
     },
     "execution_count": 115,
     "metadata": {},
     "output_type": "execute_result"
    }
   ],
   "source": [
    "type(df['cost'][df.cost.isna()].iloc[0])"
   ]
  },
  {
   "cell_type": "code",
   "execution_count": 117,
   "id": "831f37cd",
   "metadata": {},
   "outputs": [
    {
     "data": {
      "text/plain": [
       "0         $300,492\n",
       "1         $430,570\n",
       "2         $213,070\n",
       "3         $229,174\n",
       "4         $122,659\n",
       "           ...    \n",
       "3192       $93,349\n",
       "3193       $40,384\n",
       "3194    $1,074,844\n",
       "3195       $55,931\n",
       "3196       $44,370\n",
       "Name: price, Length: 3197, dtype: object"
      ]
     },
     "execution_count": 117,
     "metadata": {},
     "output_type": "execute_result"
    }
   ],
   "source": [
    "df.price"
   ]
  },
  {
   "cell_type": "markdown",
   "id": "05371994",
   "metadata": {},
   "source": [
    "# convert str to numeric values"
   ]
  },
  {
   "cell_type": "code",
   "execution_count": 40,
   "id": "d1b774e9",
   "metadata": {},
   "outputs": [],
   "source": [
    "def cost2num(x):\n",
    "  if type(x) == str:\n",
    "    x = x.strip('$').strip('k')\n",
    "    return float(x)*1e3"
   ]
  },
  {
   "cell_type": "code",
   "execution_count": 41,
   "id": "d19547cb",
   "metadata": {},
   "outputs": [
    {
     "data": {
      "text/plain": [
       "0       333000.0\n",
       "1            NaN\n",
       "2       270000.0\n",
       "3            NaN\n",
       "4        97000.0\n",
       "          ...   \n",
       "3192         NaN\n",
       "3193         NaN\n",
       "3194         NaN\n",
       "3195     44000.0\n",
       "3196    128000.0\n",
       "Name: cost, Length: 3197, dtype: float64"
      ]
     },
     "execution_count": 41,
     "metadata": {},
     "output_type": "execute_result"
    }
   ],
   "source": [
    "df.cost.map(cost2num)"
   ]
  },
  {
   "cell_type": "code",
   "execution_count": 43,
   "id": "fa01fd54",
   "metadata": {},
   "outputs": [
    {
     "data": {
      "text/plain": [
       "<Axes: ylabel='Frequency'>"
      ]
     },
     "execution_count": 43,
     "metadata": {},
     "output_type": "execute_result"
    },
    {
     "data": {
      "image/png": "[encoded data removed]",
      "text/plain": [
       "<Figure size 640x480 with 1 Axes>"
      ]
     },
     "metadata": {},
     "output_type": "display_data"
    }
   ],
   "source": [
    "df['cost'].map(cost2num).plot(kind='hist', bins=30)"
   ]
  },
  {
   "cell_type": "code",
   "execution_count": 45,
   "id": "9ff83f53",
   "metadata": {},
   "outputs": [
    {
     "data": {
      "text/plain": [
       "0         $300,492\n",
       "1         $430,570\n",
       "2         $213,070\n",
       "3         $229,174\n",
       "4         $122,659\n",
       "           ...    \n",
       "3192       $93,349\n",
       "3193       $40,384\n",
       "3194    $1,074,844\n",
       "3195       $55,931\n",
       "3196       $44,370\n",
       "Name: price, Length: 3197, dtype: object"
      ]
     },
     "execution_count": 45,
     "metadata": {},
     "output_type": "execute_result"
    }
   ],
   "source": [
    "df.price"
   ]
  },
  {
   "cell_type": "markdown",
   "id": "89a0166d",
   "metadata": {},
   "source": [
    "notice, str.strip(chars) removes chars from both ends of the string, not just the first match, and not in the middle"
   ]
  },
  {
   "cell_type": "code",
   "execution_count": null,
   "id": "c2d093df",
   "metadata": {},
   "outputs": [
    {
     "data": {
      "text/plain": [
       "'$300,492$3'"
      ]
     },
     "execution_count": 57,
     "metadata": {},
     "output_type": "execute_result"
    }
   ],
   "source": [
    "x = '$300,492$3'\n",
    "x.strip(',')  "
   ]
  },
  {
   "cell_type": "code",
   "execution_count": 58,
   "id": "a5e58ec2",
   "metadata": {},
   "outputs": [
    {
     "data": {
      "text/plain": [
       "'00,492'"
      ]
     },
     "execution_count": 58,
     "metadata": {},
     "output_type": "execute_result"
    }
   ],
   "source": [
    "x.strip('$3')"
   ]
  },
  {
   "cell_type": "code",
   "execution_count": null,
   "id": "bb7b5726",
   "metadata": {},
   "outputs": [
    {
     "data": {
      "text/plain": [
       "3004923.0"
      ]
     },
     "execution_count": 59,
     "metadata": {},
     "output_type": "execute_result"
    }
   ],
   "source": [
    "import re \n",
    "float(re.sub(r\"[^\\d]\", \"\", x))\n",
    "# \\d: digit (0-9)\n",
    "# [^\\...] = 'not in this set\n",
    "# [^\\d] means 'anything that is not a digit'"
   ]
  },
  {
   "cell_type": "code",
   "execution_count": 51,
   "id": "ef144522",
   "metadata": {},
   "outputs": [
    {
     "data": {
      "text/plain": [
       "0        300492.0\n",
       "1        430570.0\n",
       "2        213070.0\n",
       "3        229174.0\n",
       "4        122659.0\n",
       "          ...    \n",
       "3192      93349.0\n",
       "3193      40384.0\n",
       "3194    1074844.0\n",
       "3195      55931.0\n",
       "3196      44370.0\n",
       "Name: price, Length: 3197, dtype: float64"
      ]
     },
     "execution_count": 51,
     "metadata": {},
     "output_type": "execute_result"
    }
   ],
   "source": [
    "df['price'].map(lambda x: float(x.strip('$').replace(',','')) if type(x)==str else x)"
   ]
  },
  {
   "cell_type": "code",
   "execution_count": 60,
   "id": "f14efbac",
   "metadata": {},
   "outputs": [
    {
     "data": {
      "text/plain": [
       "0        300492.0\n",
       "1        430570.0\n",
       "2        213070.0\n",
       "3        229174.0\n",
       "4        122659.0\n",
       "          ...    \n",
       "3192      93349.0\n",
       "3193      40384.0\n",
       "3194    1074844.0\n",
       "3195      55931.0\n",
       "3196      44370.0\n",
       "Name: price, Length: 3197, dtype: float64"
      ]
     },
     "execution_count": 60,
     "metadata": {},
     "output_type": "execute_result"
    }
   ],
   "source": [
    "df['price'].map(lambda x: float(re.sub(r\"[^\\d]\",\"\",x)) if type(x)==str else x)"
   ]
  },
  {
   "cell_type": "markdown",
   "id": "97b6b7f6",
   "metadata": {},
   "source": [
    "# get unique values"
   ]
  },
  {
   "cell_type": "code",
   "execution_count": 65,
   "id": "cd650688",
   "metadata": {},
   "outputs": [
    {
     "data": {
      "text/plain": [
       "array(['Q,B', 'J,D', 'U', 'D,R', 'H', 'S', 'B,A', 'K,D', 'N', 'U,A', 'D',\n",
       "       'H,A', 'G', 'D,A', 'T,H', 'D,H', 'F', 'A', 'Q,A', 'W', 'F,D', 'R',\n",
       "       'P,H', 'C', 'Q,H', 'U,H', 'J', 'N,D', 'F,H', 'Q,D', 'V,H', 'W,D',\n",
       "       'S,N', 'N,U', 'F,U', 'P,P', 'S,A', 'U,R', 'J,B', 'I,M', 'B,D',\n",
       "       'H,M', 'S,U', 'K,H', 'S,B', 'T,D', 'F,A', 'K', 'V', 'N,A', 'B',\n",
       "       nan, 'R,V', 'E', 'U,D', 'L,A', 'L', 'K,A', 'S,D', 'Q,N', 'T,A',\n",
       "       'O', 'B,R', 'N,L', 'K,S'], dtype=object)"
      ]
     },
     "execution_count": 65,
     "metadata": {},
     "output_type": "execute_result"
    }
   ],
   "source": [
    "df.product_type.unique()"
   ]
  },
  {
   "cell_type": "code",
   "execution_count": 67,
   "id": "e619e7f5",
   "metadata": {},
   "outputs": [
    {
     "data": {
      "text/plain": [
       "product_type\n",
       "D      485\n",
       "H      227\n",
       "C      203\n",
       "N      203\n",
       "U      179\n",
       "      ... \n",
       "T,A      3\n",
       "N,L      3\n",
       "R,V      2\n",
       "O        2\n",
       "B,R      1\n",
       "Name: count, Length: 64, dtype: int64"
      ]
     },
     "execution_count": 67,
     "metadata": {},
     "output_type": "execute_result"
    }
   ],
   "source": [
    "df.product_type.value_counts()"
   ]
  },
  {
   "cell_type": "code",
   "execution_count": null,
   "id": "4806925c",
   "metadata": {},
   "outputs": [
    {
     "data": {
      "text/plain": [
       "product_type\n",
       "B,R      1\n",
       "O        2\n",
       "R,V      2\n",
       "T,A      3\n",
       "N,L      3\n",
       "      ... \n",
       "U      179\n",
       "C      203\n",
       "N      203\n",
       "H      227\n",
       "D      485\n",
       "Name: count, Length: 64, dtype: int64"
      ]
     },
     "execution_count": 68,
     "metadata": {},
     "output_type": "execute_result"
    }
   ],
   "source": [
    "df.product_type.value_counts(ascending=True)"
   ]
  },
  {
   "cell_type": "code",
   "execution_count": 72,
   "id": "1d42c37b",
   "metadata": {},
   "outputs": [
    {
     "data": {
      "text/plain": [
       "<Axes: ylabel='product_type'>"
      ]
     },
     "execution_count": 72,
     "metadata": {},
     "output_type": "execute_result"
    },
    {
     "data": {
      "image/png": "[encoded data removed]",
      "text/plain": [
       "<Figure size 640x480 with 1 Axes>"
      ]
     },
     "metadata": {},
     "output_type": "display_data"
    }
   ],
   "source": [
    "df.product_type.value_counts(ascending=True).plot(kind='barh')"
   ]
  },
  {
   "cell_type": "code",
   "execution_count": 74,
   "id": "2daead00",
   "metadata": {},
   "outputs": [
    {
     "data": {
      "text/plain": [
       "array(['advanced', 'basic', 'super advanced', 'intermediate', nan,\n",
       "       'unrated'], dtype=object)"
      ]
     },
     "execution_count": 74,
     "metadata": {},
     "output_type": "execute_result"
    }
   ],
   "source": [
    "df.product_level.unique()"
   ]
  },
  {
   "cell_type": "code",
   "execution_count": 75,
   "id": "45f821d0",
   "metadata": {},
   "outputs": [
    {
     "data": {
      "text/plain": [
       "1"
      ]
     },
     "execution_count": 75,
     "metadata": {},
     "output_type": "execute_result"
    }
   ],
   "source": [
    "len(df.product_level) - df.product_level.count()"
   ]
  },
  {
   "cell_type": "code",
   "execution_count": 76,
   "id": "e619ed1c",
   "metadata": {},
   "outputs": [
    {
     "data": {
      "text/plain": [
       "product_level\n",
       "advanced          1323\n",
       "super advanced    1226\n",
       "intermediate       534\n",
       "basic              111\n",
       "unrated              2\n",
       "Name: count, dtype: int64"
      ]
     },
     "execution_count": 76,
     "metadata": {},
     "output_type": "execute_result"
    }
   ],
   "source": [
    "df.product_level.value_counts()"
   ]
  },
  {
   "cell_type": "code",
   "execution_count": 77,
   "id": "d3e7c956",
   "metadata": {},
   "outputs": [
    {
     "data": {
      "text/plain": [
       "<Axes: ylabel='count'>"
      ]
     },
     "execution_count": 77,
     "metadata": {},
     "output_type": "execute_result"
    },
    {
     "data": {
      "image/png": "[encoded data removed]",
      "text/plain": [
       "<Figure size 640x480 with 1 Axes>"
      ]
     },
     "metadata": {},
     "output_type": "display_data"
    }
   ],
   "source": [
    "df.product_level.value_counts().plot(kind='pie')"
   ]
  },
  {
   "cell_type": "markdown",
   "id": "6358bdbc",
   "metadata": {},
   "source": [
    "# split and count categorical values"
   ]
  },
  {
   "cell_type": "code",
   "execution_count": 78,
   "id": "93ab49b5",
   "metadata": {},
   "outputs": [
    {
     "data": {
      "text/plain": [
       "0       Q,B\n",
       "1       J,D\n",
       "2       J,D\n",
       "3         U\n",
       "4       D,R\n",
       "       ... \n",
       "3192      D\n",
       "3193    J,B\n",
       "3194      C\n",
       "3195      R\n",
       "3196      N\n",
       "Name: product_type, Length: 3197, dtype: object"
      ]
     },
     "execution_count": 78,
     "metadata": {},
     "output_type": "execute_result"
    }
   ],
   "source": [
    "df.product_type"
   ]
  },
  {
   "cell_type": "code",
   "execution_count": 79,
   "id": "dfebcc84",
   "metadata": {},
   "outputs": [
    {
     "data": {
      "text/plain": [
       "{'Q': 90,\n",
       " 'B': 218,\n",
       " 'J': 196,\n",
       " 'D': 1100,\n",
       " 'U': 395,\n",
       " 'R': 245,\n",
       " 'H': 647,\n",
       " 'S': 179,\n",
       " 'A': 500,\n",
       " 'K': 111,\n",
       " 'N': 331,\n",
       " 'G': 22,\n",
       " 'T': 93,\n",
       " 'F': 146,\n",
       " 'W': 19,\n",
       " 'P': 92,\n",
       " 'C': 203,\n",
       " 'V': 38,\n",
       " 'I': 6,\n",
       " 'M': 17,\n",
       " 'E': 11,\n",
       " 'L': 16,\n",
       " 'O': 2}"
      ]
     },
     "execution_count": 79,
     "metadata": {},
     "output_type": "execute_result"
    }
   ],
   "source": [
    "map = {}\n",
    "\n",
    "for e in df.product_type:\n",
    "  if type(e) == str:\n",
    "    tmp = e.split(',')\n",
    "    for i in tmp:\n",
    "      map[i] = map.get(i,0) + 1\n",
    "\n",
    "map"
   ]
  },
  {
   "cell_type": "markdown",
   "id": "cdea2fe7",
   "metadata": {},
   "source": [
    "# timestamp analysis"
   ]
  },
  {
   "cell_type": "code",
   "execution_count": 81,
   "id": "a0641c58",
   "metadata": {},
   "outputs": [
    {
     "data": {
      "text/plain": [
       "cost             object\n",
       "price            object\n",
       "weight           object\n",
       "purchase_date    object\n",
       "product_type     object\n",
       "product_level    object\n",
       "maker            object\n",
       "ingredient       object\n",
       "height           object\n",
       "width            object\n",
       "depth            object\n",
       "dtype: object"
      ]
     },
     "execution_count": 81,
     "metadata": {},
     "output_type": "execute_result"
    }
   ],
   "source": [
    "df.dtypes"
   ]
  },
  {
   "cell_type": "code",
   "execution_count": 82,
   "id": "4c88cf8f",
   "metadata": {},
   "outputs": [
    {
     "data": {
      "text/plain": [
       "dtype('O')"
      ]
     },
     "execution_count": 82,
     "metadata": {},
     "output_type": "execute_result"
    }
   ],
   "source": [
    "df.purchase_date.dtype"
   ]
  },
  {
   "cell_type": "code",
   "execution_count": 86,
   "id": "66330474",
   "metadata": {},
   "outputs": [
    {
     "data": {
      "text/plain": [
       "0       Dec 19 2008\n",
       "1       Sep 10 1997\n",
       "2       Sep 05 2001\n",
       "3       Dec 23 2016\n",
       "4       Jan 12 2000\n",
       "           ...     \n",
       "3192    Nov 25 2016\n",
       "3193    May 25 2007\n",
       "3194    Dec 16 2016\n",
       "3195    Apr 12 2002\n",
       "3196    Jun 13 2003\n",
       "Name: purchase_date, Length: 3197, dtype: object"
      ]
     },
     "execution_count": 86,
     "metadata": {},
     "output_type": "execute_result"
    }
   ],
   "source": [
    "df['purchase_date']"
   ]
  },
  {
   "cell_type": "code",
   "execution_count": 84,
   "id": "4d62ef5e",
   "metadata": {},
   "outputs": [
    {
     "data": {
      "text/plain": [
       "0      2008-12-19\n",
       "1      1997-09-10\n",
       "2      2001-09-05\n",
       "3      2016-12-23\n",
       "4      2000-01-12\n",
       "          ...    \n",
       "3192   2016-11-25\n",
       "3193   2007-05-25\n",
       "3194   2016-12-16\n",
       "3195   2002-04-12\n",
       "3196   2003-06-13\n",
       "Name: purchase_date, Length: 3197, dtype: datetime64[ns]"
      ]
     },
     "execution_count": 84,
     "metadata": {},
     "output_type": "execute_result"
    }
   ],
   "source": [
    "purchase_date = pd.to_datetime(df['purchase_date'])\n",
    "purchase_date"
   ]
  },
  {
   "cell_type": "code",
   "execution_count": 87,
   "id": "6ba74590",
   "metadata": {},
   "outputs": [
    {
     "data": {
      "text/plain": [
       "Timestamp('1996-08-09 00:00:00')"
      ]
     },
     "execution_count": 87,
     "metadata": {},
     "output_type": "execute_result"
    }
   ],
   "source": [
    "purchase_date.min()"
   ]
  },
  {
   "cell_type": "code",
   "execution_count": 88,
   "id": "73f7e939",
   "metadata": {},
   "outputs": [
    {
     "data": {
      "text/plain": [
       "Timestamp('2017-10-06 00:00:00')"
      ]
     },
     "execution_count": 88,
     "metadata": {},
     "output_type": "execute_result"
    }
   ],
   "source": [
    "purchase_date.max()"
   ]
  },
  {
   "cell_type": "code",
   "execution_count": 89,
   "id": "f5f83e3b",
   "metadata": {},
   "outputs": [
    {
     "data": {
      "text/plain": [
       "0         $300,492\n",
       "1         $430,570\n",
       "2         $213,070\n",
       "3         $229,174\n",
       "4         $122,659\n",
       "           ...    \n",
       "3192       $93,349\n",
       "3193       $40,384\n",
       "3194    $1,074,844\n",
       "3195       $55,931\n",
       "3196       $44,370\n",
       "Name: price, Length: 3197, dtype: object"
      ]
     },
     "execution_count": 89,
     "metadata": {},
     "output_type": "execute_result"
    }
   ],
   "source": [
    "df.price"
   ]
  },
  {
   "cell_type": "code",
   "execution_count": 92,
   "id": "a8786d9c",
   "metadata": {},
   "outputs": [
    {
     "data": {
      "text/plain": [
       "11"
      ]
     },
     "execution_count": 92,
     "metadata": {},
     "output_type": "execute_result"
    }
   ],
   "source": [
    "len(df.price) - df.price.count()"
   ]
  },
  {
   "cell_type": "code",
   "execution_count": 131,
   "id": "ff58fda8",
   "metadata": {},
   "outputs": [],
   "source": [
    "price = df.price.map(lambda x: x if type(x)==float else float(x.strip('$').replace(',', '')))\n",
    "# notice, NaN is of type float"
   ]
  },
  {
   "cell_type": "code",
   "execution_count": 132,
   "id": "90975e99",
   "metadata": {},
   "outputs": [
    {
     "data": {
      "text/plain": [
       "384    NaN\n",
       "717    NaN\n",
       "1183   NaN\n",
       "1335   NaN\n",
       "1460   NaN\n",
       "1537   NaN\n",
       "1543   NaN\n",
       "1560   NaN\n",
       "1757   NaN\n",
       "1936   NaN\n",
       "2077   NaN\n",
       "Name: price, dtype: float64"
      ]
     },
     "execution_count": 132,
     "metadata": {},
     "output_type": "execute_result"
    }
   ],
   "source": [
    "price[price.isna()]"
   ]
  },
  {
   "cell_type": "code",
   "execution_count": 133,
   "id": "699d069b",
   "metadata": {},
   "outputs": [
    {
     "data": {
      "text/plain": [
       "RangeIndex(start=0, stop=3197, step=1)"
      ]
     },
     "execution_count": 133,
     "metadata": {},
     "output_type": "execute_result"
    }
   ],
   "source": [
    "price.index"
   ]
  },
  {
   "cell_type": "code",
   "execution_count": 134,
   "id": "fe8900ef",
   "metadata": {},
   "outputs": [],
   "source": [
    "price.index = purchase_date # set purchase_date as price index"
   ]
  },
  {
   "cell_type": "code",
   "execution_count": 135,
   "id": "97bcc482",
   "metadata": {},
   "outputs": [
    {
     "data": {
      "text/plain": [
       "purchase_date\n",
       "2008-12-19    300492.0\n",
       "1997-09-10    430570.0\n",
       "2001-09-05    213070.0\n",
       "2016-12-23    229174.0\n",
       "2000-01-12    122659.0\n",
       "Name: price, dtype: float64"
      ]
     },
     "execution_count": 135,
     "metadata": {},
     "output_type": "execute_result"
    }
   ],
   "source": [
    "price.head()"
   ]
  },
  {
   "cell_type": "code",
   "execution_count": 136,
   "id": "aeae8e1b",
   "metadata": {},
   "outputs": [],
   "source": [
    "price = price.sort_index() # sort price according purchase_date"
   ]
  },
  {
   "cell_type": "code",
   "execution_count": 137,
   "id": "cf6ee83d",
   "metadata": {},
   "outputs": [
    {
     "data": {
      "text/plain": [
       "purchase_date\n",
       "1996-08-09    103343.0\n",
       "1996-09-27    138381.0\n",
       "1996-10-04     45701.0\n",
       "1996-10-11    262119.0\n",
       "1996-10-11    126383.0\n",
       "Name: price, dtype: float64"
      ]
     },
     "execution_count": 137,
     "metadata": {},
     "output_type": "execute_result"
    }
   ],
   "source": [
    "price.head()"
   ]
  },
  {
   "cell_type": "code",
   "execution_count": 138,
   "id": "4681d093",
   "metadata": {},
   "outputs": [
    {
     "data": {
      "text/plain": [
       "<Axes: xlabel='purchase_date'>"
      ]
     },
     "execution_count": 138,
     "metadata": {},
     "output_type": "execute_result"
    },
    {
     "data": {
      "image/png": "[encoded data removed]",
      "text/plain": [
       "<Figure size 640x480 with 1 Axes>"
      ]
     },
     "metadata": {},
     "output_type": "display_data"
    }
   ],
   "source": [
    "price.plot()"
   ]
  },
  {
   "cell_type": "code",
   "execution_count": 139,
   "id": "a3f88ad0",
   "metadata": {},
   "outputs": [
    {
     "data": {
      "text/plain": [
       "<Axes: xlabel='purchase_date'>"
      ]
     },
     "execution_count": 139,
     "metadata": {},
     "output_type": "execute_result"
    },
    {
     "data": {
      "image/png": "[encoded data removed]",
      "text/plain": [
       "<Figure size 640x480 with 1 Axes>"
      ]
     },
     "metadata": {},
     "output_type": "display_data"
    }
   ],
   "source": [
    "price.dropna().plot()"
   ]
  },
  {
   "cell_type": "markdown",
   "id": "f4cd4739",
   "metadata": {},
   "source": [
    "## time series aggregation"
   ]
  },
  {
   "cell_type": "code",
   "execution_count": 143,
   "id": "0d818e66",
   "metadata": {},
   "outputs": [
    {
     "data": {
      "text/plain": [
       "<pandas.core.resample.DatetimeIndexResampler object at 0x10a561d30>"
      ]
     },
     "execution_count": 143,
     "metadata": {},
     "output_type": "execute_result"
    }
   ],
   "source": [
    "price.resample('ME')"
   ]
  },
  {
   "cell_type": "code",
   "execution_count": 145,
   "id": "1427ab49",
   "metadata": {},
   "outputs": [
    {
     "data": {
      "text/plain": [
       "purchase_date\n",
       "1996-08-31     1\n",
       "1996-09-30     1\n",
       "1996-10-31    11\n",
       "1996-11-30    13\n",
       "1996-12-31    13\n",
       "              ..\n",
       "2017-06-30    17\n",
       "2017-07-31    13\n",
       "2017-08-31    12\n",
       "2017-09-30    13\n",
       "2017-10-31     2\n",
       "Name: price, Length: 255, dtype: int64"
      ]
     },
     "execution_count": 145,
     "metadata": {},
     "output_type": "execute_result"
    }
   ],
   "source": [
    "price.resample('ME').count()"
   ]
  },
  {
   "cell_type": "code",
   "execution_count": 148,
   "id": "2ec3a563",
   "metadata": {},
   "outputs": [
    {
     "data": {
      "text/plain": [
       "<Axes: xlabel='purchase_date', ylabel='monthly count'>"
      ]
     },
     "execution_count": 148,
     "metadata": {},
     "output_type": "execute_result"
    },
    {
     "data": {
      "image/png": "[encoded data removed]",
      "text/plain": [
       "<Figure size 640x480 with 1 Axes>"
      ]
     },
     "metadata": {},
     "output_type": "display_data"
    }
   ],
   "source": [
    "price.resample('ME').count().plot(ylabel='monthly count')"
   ]
  },
  {
   "cell_type": "code",
   "execution_count": null,
   "id": "98a71c69",
   "metadata": {},
   "outputs": [],
   "source": [
    "\"\"\"\n",
    "syntax:\n",
    "- df.resample(rule).agg_method()\n",
    "    - rule: the new frequency you want (like 'H', 'D, 'W', 'ME', 'QE', 'YE', etc)\n",
    "    - agg_method: a method like, mean(), sum(), count(), median(), etc.\n",
    "ME: month end \n",
    "QE: quarter end \n",
    "YE: year end \n",
    "\"\"\""
   ]
  },
  {
   "cell_type": "code",
   "execution_count": 164,
   "id": "cd8c2315",
   "metadata": {},
   "outputs": [
    {
     "data": {
      "text/plain": [
       "purchase_date\n",
       "1996-08-11     1\n",
       "1996-09-08     0\n",
       "1996-10-06     2\n",
       "1996-11-03    11\n",
       "1996-12-01    12\n",
       "              ..\n",
       "2017-06-18    13\n",
       "2017-07-16    15\n",
       "2017-08-13    11\n",
       "2017-09-10    14\n",
       "2017-10-08     8\n",
       "Name: price, Length: 277, dtype: int64"
      ]
     },
     "execution_count": 164,
     "metadata": {},
     "output_type": "execute_result"
    }
   ],
   "source": [
    "price.resample('4W').count()"
   ]
  },
  {
   "cell_type": "code",
   "execution_count": 161,
   "id": "ec5823d9",
   "metadata": {},
   "outputs": [
    {
     "data": {
      "text/plain": [
       "<Axes: xlabel='purchase_date'>"
      ]
     },
     "execution_count": 161,
     "metadata": {},
     "output_type": "execute_result"
    },
    {
     "data": {
      "image/png": "[encoded data removed]",
      "text/plain": [
       "<Figure size 640x480 with 1 Axes>"
      ]
     },
     "metadata": {},
     "output_type": "display_data"
    }
   ],
   "source": [
    "price.resample('YE').mean().plot()"
   ]
  },
  {
   "cell_type": "code",
   "execution_count": 177,
   "id": "45ff194a",
   "metadata": {},
   "outputs": [],
   "source": [
    "# monthly profit (price-cost) mean, median \n",
    "price = df.price.map(lambda x: x if type(x)==float else float(x.strip('$').replace(',', '')))\n",
    "cost = df.cost.map(lambda x: x if type(x)==float else float(x.strip('$').strip('k'))*1e3)\n",
    "profit = price - cost\n",
    "purchase_date = pd.to_datetime(df.purchase_date)\n",
    "profit.index = purchase_date"
   ]
  },
  {
   "cell_type": "code",
   "execution_count": 185,
   "id": "2135f765",
   "metadata": {},
   "outputs": [
    {
     "data": {
      "text/plain": [
       "Text(0, 0.5, 'profit ($)')"
      ]
     },
     "execution_count": 185,
     "metadata": {},
     "output_type": "execute_result"
    },
    {
     "data": {
      "image/png": "[encoded data removed]",
      "text/plain": [
       "<Figure size 640x480 with 1 Axes>"
      ]
     },
     "metadata": {},
     "output_type": "display_data"
    }
   ],
   "source": [
    "ax = profit.resample('ME').median().plot(label='monthly median')\n",
    "profit.resample('ME').mean().plot(ax=ax, label='monthly mean')\n",
    "ax.legend()\n",
    "ax.set_xlabel('purchase date')\n",
    "ax.set_ylabel('profit ($)')"
   ]
  },
  {
   "cell_type": "code",
   "execution_count": 167,
   "id": "9a54009a",
   "metadata": {},
   "outputs": [
    {
     "data": {
      "text/plain": [
       "0         $300,492\n",
       "1         $430,570\n",
       "2         $213,070\n",
       "3         $229,174\n",
       "4         $122,659\n",
       "           ...    \n",
       "3192       $93,349\n",
       "3193       $40,384\n",
       "3194    $1,074,844\n",
       "3195       $55,931\n",
       "3196       $44,370\n",
       "Name: price, Length: 3197, dtype: object"
      ]
     },
     "execution_count": 167,
     "metadata": {},
     "output_type": "execute_result"
    }
   ],
   "source": [
    "df.price "
   ]
  },
  {
   "cell_type": "markdown",
   "id": "4bcac91e",
   "metadata": {},
   "source": [
    "## rolling"
   ]
  },
  {
   "cell_type": "code",
   "execution_count": 220,
   "id": "26b708ae",
   "metadata": {},
   "outputs": [
    {
     "data": {
      "text/plain": [
       "purchase_date\n",
       "1996-08-09    0.0\n",
       "1996-08-10    0.0\n",
       "1996-08-11    0.0\n",
       "1996-08-12    0.0\n",
       "1996-08-13    0.0\n",
       "1996-08-14    0.0\n",
       "1996-08-15    0.0\n",
       "1996-08-16    0.0\n",
       "1996-08-17    0.0\n",
       "1996-08-18    0.0\n",
       "1996-08-19    0.0\n",
       "1996-08-20    0.0\n",
       "1996-08-21    0.0\n",
       "1996-08-22    0.0\n",
       "1996-08-23    0.0\n",
       "1996-08-24    0.0\n",
       "1996-08-25    0.0\n",
       "1996-08-26    0.0\n",
       "1996-08-27    0.0\n",
       "1996-08-28    0.0\n",
       "dtype: float64"
      ]
     },
     "execution_count": 220,
     "metadata": {},
     "output_type": "execute_result"
    }
   ],
   "source": [
    "profit.sort_index().resample('D').sum().head(20)"
   ]
  },
  {
   "cell_type": "code",
   "execution_count": 221,
   "id": "9336870b",
   "metadata": {},
   "outputs": [
    {
     "data": {
      "text/plain": [
       "purchase_date\n",
       "1996-08-09    NaN\n",
       "1996-08-10    NaN\n",
       "1996-08-11    NaN\n",
       "1996-08-12    NaN\n",
       "1996-08-13    NaN\n",
       "1996-08-14    NaN\n",
       "1996-08-15    0.0\n",
       "1996-08-16    0.0\n",
       "1996-08-17    0.0\n",
       "1996-08-18    0.0\n",
       "1996-08-19    0.0\n",
       "1996-08-20    0.0\n",
       "1996-08-21    0.0\n",
       "1996-08-22    0.0\n",
       "1996-08-23    0.0\n",
       "1996-08-24    0.0\n",
       "1996-08-25    0.0\n",
       "1996-08-26    0.0\n",
       "1996-08-27    0.0\n",
       "1996-08-28    0.0\n",
       "dtype: float64"
      ]
     },
     "execution_count": 221,
     "metadata": {},
     "output_type": "execute_result"
    }
   ],
   "source": [
    "profit.sort_index().resample('D').sum().rolling(window=7).mean().head(20)\n",
    "\n",
    "# rolling(window=7)\n",
    "# For each day, it looks back at the previous 7 days (including current one)."
   ]
  },
  {
   "cell_type": "code",
   "execution_count": 222,
   "id": "899885e2",
   "metadata": {},
   "outputs": [
    {
     "data": {
      "text/plain": [
       "purchase_date\n",
       "1996-08-09    0.0\n",
       "1996-08-10    0.0\n",
       "1996-08-11    0.0\n",
       "1996-08-12    0.0\n",
       "1996-08-13    0.0\n",
       "1996-08-14    0.0\n",
       "1996-08-15    0.0\n",
       "1996-08-16    0.0\n",
       "1996-08-17    0.0\n",
       "1996-08-18    0.0\n",
       "1996-08-19    0.0\n",
       "1996-08-20    0.0\n",
       "1996-08-21    0.0\n",
       "1996-08-22    0.0\n",
       "1996-08-23    0.0\n",
       "1996-08-24    0.0\n",
       "1996-08-25    0.0\n",
       "1996-08-26    0.0\n",
       "1996-08-27    0.0\n",
       "1996-08-28    0.0\n",
       "dtype: float64"
      ]
     },
     "execution_count": 222,
     "metadata": {},
     "output_type": "execute_result"
    }
   ],
   "source": [
    "# the rolling mean to start earlier (e.g. average whatever rows are available, not strictly 7)\n",
    "# min_periods=1 means: “compute the mean even if fewer than 7 observations are available.”\n",
    "profit.sort_index().resample('D').sum().rolling(window=7, min_periods=1).mean().head(20)"
   ]
  },
  {
   "cell_type": "code",
   "execution_count": 223,
   "id": "4148083a",
   "metadata": {},
   "outputs": [
    {
     "data": {
      "text/plain": [
       "<Axes: xlabel='purchase_date'>"
      ]
     },
     "execution_count": 223,
     "metadata": {},
     "output_type": "execute_result"
    },
    {
     "data": {
      "image/png": "[encoded data removed]",
      "text/plain": [
       "<Figure size 640x480 with 1 Axes>"
      ]
     },
     "metadata": {},
     "output_type": "display_data"
    }
   ],
   "source": [
    "profit.sort_index().resample('D').sum().rolling(window=7, min_periods=1).mean().plot()"
   ]
  },
  {
   "cell_type": "markdown",
   "id": "ae14056b",
   "metadata": {},
   "source": [
    "## cumulative "
   ]
  },
  {
   "cell_type": "code",
   "execution_count": 217,
   "id": "9451372b",
   "metadata": {},
   "outputs": [
    {
     "data": {
      "text/plain": [
       "purchase_date\n",
       "2008-12-19   -32508.0\n",
       "1997-09-10        NaN\n",
       "2001-09-05   -56930.0\n",
       "2016-12-23        NaN\n",
       "2000-01-12    25659.0\n",
       "               ...   \n",
       "2016-11-25        NaN\n",
       "2007-05-25        NaN\n",
       "2016-12-16        NaN\n",
       "2002-04-12    11931.0\n",
       "2003-06-13   -83630.0\n",
       "Length: 3197, dtype: float64"
      ]
     },
     "execution_count": 217,
     "metadata": {},
     "output_type": "execute_result"
    }
   ],
   "source": [
    "profit"
   ]
  },
  {
   "cell_type": "code",
   "execution_count": 213,
   "id": "3ba2c259",
   "metadata": {},
   "outputs": [
    {
     "data": {
      "text/plain": [
       "purchase_date\n",
       "1996-08-09         0.0\n",
       "1996-08-10         0.0\n",
       "1996-08-11         0.0\n",
       "1996-08-12         0.0\n",
       "1996-08-13         0.0\n",
       "                ...   \n",
       "2017-10-02         0.0\n",
       "2017-10-03         0.0\n",
       "2017-10-04   -220600.0\n",
       "2017-10-05         0.0\n",
       "2017-10-06     70231.0\n",
       "Length: 7729, dtype: float64"
      ]
     },
     "execution_count": 213,
     "metadata": {},
     "output_type": "execute_result"
    }
   ],
   "source": [
    "profit.resample('D').sum()"
   ]
  },
  {
   "cell_type": "code",
   "execution_count": null,
   "id": "8180a00c",
   "metadata": {},
   "outputs": [
    {
     "data": {
      "text/plain": [
       "purchase_date\n",
       "1996-08-09         0.0\n",
       "1996-08-10         0.0\n",
       "1996-08-11         0.0\n",
       "1996-08-12         0.0\n",
       "1996-08-13         0.0\n",
       "                ...   \n",
       "2017-10-02         0.0\n",
       "2017-10-03         0.0\n",
       "2017-10-04   -220600.0\n",
       "2017-10-05         0.0\n",
       "2017-10-06     70231.0\n",
       "Length: 7729, dtype: float64"
      ]
     },
     "execution_count": 214,
     "metadata": {},
     "output_type": "execute_result"
    }
   ],
   "source": [
    "profit.sort_index().resample('D').sum() # it's safer to sort_index() first"
   ]
  },
  {
   "cell_type": "code",
   "execution_count": 218,
   "id": "6f829fc8",
   "metadata": {},
   "outputs": [
    {
     "data": {
      "text/plain": [
       "purchase_date\n",
       "1996-08-09            0.0\n",
       "1996-08-10            0.0\n",
       "1996-08-11            0.0\n",
       "1996-08-12            0.0\n",
       "1996-08-13            0.0\n",
       "                 ...     \n",
       "2017-10-02    110569758.0\n",
       "2017-10-03    110569758.0\n",
       "2017-10-04    110349158.0\n",
       "2017-10-05    110349158.0\n",
       "2017-10-06    110419389.0\n",
       "Length: 7729, dtype: float64"
      ]
     },
     "execution_count": 218,
     "metadata": {},
     "output_type": "execute_result"
    }
   ],
   "source": [
    "profit.sort_index().resample('D').sum().cumsum()"
   ]
  },
  {
   "cell_type": "code",
   "execution_count": 219,
   "id": "f8afacda",
   "metadata": {},
   "outputs": [
    {
     "data": {
      "text/plain": [
       "<Axes: xlabel='purchase_date'>"
      ]
     },
     "execution_count": 219,
     "metadata": {},
     "output_type": "execute_result"
    },
    {
     "data": {
      "image/png": "[encoded data removed]",
      "text/plain": [
       "<Figure size 640x480 with 1 Axes>"
      ]
     },
     "metadata": {},
     "output_type": "display_data"
    }
   ],
   "source": [
    "profit.sort_index().resample('D').sum().cumsum().plot()"
   ]
  },
  {
   "cell_type": "markdown",
   "id": "b5c5362f",
   "metadata": {},
   "source": [
    "## time features"
   ]
  },
  {
   "cell_type": "code",
   "execution_count": null,
   "id": "36f0e43f",
   "metadata": {},
   "outputs": [],
   "source": [
    "# get weekday\n",
    "# weekday = purchase_date.sort_values().dt.weekday\n",
    "\n",
    "# notice, purchase_date's index is not date but just numbers, \n",
    "# so we sort values instead of index "
   ]
  },
  {
   "cell_type": "code",
   "execution_count": 236,
   "id": "b4c9501a",
   "metadata": {},
   "outputs": [],
   "source": [
    "# weekday"
   ]
  },
  {
   "cell_type": "code",
   "execution_count": 237,
   "id": "e920c62f",
   "metadata": {},
   "outputs": [],
   "source": [
    "# purchase_date.sort_values()"
   ]
  },
  {
   "cell_type": "code",
   "execution_count": null,
   "id": "41da66bd",
   "metadata": {},
   "outputs": [
    {
     "data": {
      "text/plain": [
       "array([ 300492.,  430570.,  213070., ..., 1074844.,   55931.,   44370.])"
      ]
     },
     "execution_count": 235,
     "metadata": {},
     "output_type": "execute_result"
    }
   ],
   "source": []
  },
  {
   "cell_type": "code",
   "execution_count": 246,
   "id": "9eb564eb",
   "metadata": {},
   "outputs": [],
   "source": [
    "# get averaged price for each weekday\n",
    "price = df['price'].map(lambda x: x if type(x)==float else float(x.strip('$').replace(',', '')))\n",
    "purchase_date = pd.to_datetime(df['purchase_date'])\n",
    "weekday = purchase_date.dt.weekday\n",
    "df_tmp = pd.DataFrame({'price':price.values, 'weekday':weekday})"
   ]
  },
  {
   "cell_type": "code",
   "execution_count": 247,
   "id": "0ee90b1e",
   "metadata": {},
   "outputs": [
    {
     "data": {
      "text/html": [
       "<div>\n",
       "<style scoped>\n",
       "    .dataframe tbody tr th:only-of-type {\n",
       "        vertical-align: middle;\n",
       "    }\n",
       "\n",
       "    .dataframe tbody tr th {\n",
       "        vertical-align: top;\n",
       "    }\n",
       "\n",
       "    .dataframe thead th {\n",
       "        text-align: right;\n",
       "    }\n",
       "</style>\n",
       "<table border=\"1\" class=\"dataframe\">\n",
       "  <thead>\n",
       "    <tr style=\"text-align: right;\">\n",
       "      <th></th>\n",
       "      <th>price</th>\n",
       "      <th>weekday</th>\n",
       "    </tr>\n",
       "  </thead>\n",
       "  <tbody>\n",
       "    <tr>\n",
       "      <th>0</th>\n",
       "      <td>300492.0</td>\n",
       "      <td>4.0</td>\n",
       "    </tr>\n",
       "    <tr>\n",
       "      <th>1</th>\n",
       "      <td>430570.0</td>\n",
       "      <td>2.0</td>\n",
       "    </tr>\n",
       "    <tr>\n",
       "      <th>2</th>\n",
       "      <td>213070.0</td>\n",
       "      <td>2.0</td>\n",
       "    </tr>\n",
       "    <tr>\n",
       "      <th>3</th>\n",
       "      <td>229174.0</td>\n",
       "      <td>4.0</td>\n",
       "    </tr>\n",
       "    <tr>\n",
       "      <th>4</th>\n",
       "      <td>122659.0</td>\n",
       "      <td>2.0</td>\n",
       "    </tr>\n",
       "    <tr>\n",
       "      <th>...</th>\n",
       "      <td>...</td>\n",
       "      <td>...</td>\n",
       "    </tr>\n",
       "    <tr>\n",
       "      <th>3192</th>\n",
       "      <td>93349.0</td>\n",
       "      <td>4.0</td>\n",
       "    </tr>\n",
       "    <tr>\n",
       "      <th>3193</th>\n",
       "      <td>40384.0</td>\n",
       "      <td>4.0</td>\n",
       "    </tr>\n",
       "    <tr>\n",
       "      <th>3194</th>\n",
       "      <td>1074844.0</td>\n",
       "      <td>4.0</td>\n",
       "    </tr>\n",
       "    <tr>\n",
       "      <th>3195</th>\n",
       "      <td>55931.0</td>\n",
       "      <td>4.0</td>\n",
       "    </tr>\n",
       "    <tr>\n",
       "      <th>3196</th>\n",
       "      <td>44370.0</td>\n",
       "      <td>4.0</td>\n",
       "    </tr>\n",
       "  </tbody>\n",
       "</table>\n",
       "<p>3197 rows × 2 columns</p>\n",
       "</div>"
      ],
      "text/plain": [
       "          price  weekday\n",
       "0      300492.0      4.0\n",
       "1      430570.0      2.0\n",
       "2      213070.0      2.0\n",
       "3      229174.0      4.0\n",
       "4      122659.0      2.0\n",
       "...         ...      ...\n",
       "3192    93349.0      4.0\n",
       "3193    40384.0      4.0\n",
       "3194  1074844.0      4.0\n",
       "3195    55931.0      4.0\n",
       "3196    44370.0      4.0\n",
       "\n",
       "[3197 rows x 2 columns]"
      ]
     },
     "execution_count": 247,
     "metadata": {},
     "output_type": "execute_result"
    }
   ],
   "source": [
    "df_tmp"
   ]
  },
  {
   "cell_type": "code",
   "execution_count": 248,
   "id": "e823a25e",
   "metadata": {},
   "outputs": [
    {
     "data": {
      "text/html": [
       "<div>\n",
       "<style scoped>\n",
       "    .dataframe tbody tr th:only-of-type {\n",
       "        vertical-align: middle;\n",
       "    }\n",
       "\n",
       "    .dataframe tbody tr th {\n",
       "        vertical-align: top;\n",
       "    }\n",
       "\n",
       "    .dataframe thead th {\n",
       "        text-align: right;\n",
       "    }\n",
       "</style>\n",
       "<table border=\"1\" class=\"dataframe\">\n",
       "  <thead>\n",
       "    <tr style=\"text-align: right;\">\n",
       "      <th></th>\n",
       "      <th>price</th>\n",
       "    </tr>\n",
       "    <tr>\n",
       "      <th>weekday</th>\n",
       "      <th></th>\n",
       "    </tr>\n",
       "  </thead>\n",
       "  <tbody>\n",
       "    <tr>\n",
       "      <th>0.0</th>\n",
       "      <td>69380.000000</td>\n",
       "    </tr>\n",
       "    <tr>\n",
       "      <th>1.0</th>\n",
       "      <td>250558.176471</td>\n",
       "    </tr>\n",
       "    <tr>\n",
       "      <th>2.0</th>\n",
       "      <td>244754.380282</td>\n",
       "    </tr>\n",
       "    <tr>\n",
       "      <th>3.0</th>\n",
       "      <td>326438.173913</td>\n",
       "    </tr>\n",
       "    <tr>\n",
       "      <th>4.0</th>\n",
       "      <td>173777.847055</td>\n",
       "    </tr>\n",
       "    <tr>\n",
       "      <th>5.0</th>\n",
       "      <td>133539.600000</td>\n",
       "    </tr>\n",
       "    <tr>\n",
       "      <th>6.0</th>\n",
       "      <td>108459.000000</td>\n",
       "    </tr>\n",
       "  </tbody>\n",
       "</table>\n",
       "</div>"
      ],
      "text/plain": [
       "                 price\n",
       "weekday               \n",
       "0.0       69380.000000\n",
       "1.0      250558.176471\n",
       "2.0      244754.380282\n",
       "3.0      326438.173913\n",
       "4.0      173777.847055\n",
       "5.0      133539.600000\n",
       "6.0      108459.000000"
      ]
     },
     "execution_count": 248,
     "metadata": {},
     "output_type": "execute_result"
    }
   ],
   "source": [
    "df_tmp.groupby('weekday').mean()"
   ]
  },
  {
   "cell_type": "code",
   "execution_count": 249,
   "id": "0555216c",
   "metadata": {},
   "outputs": [
    {
     "data": {
      "text/plain": [
       "<Axes: xlabel='weekday'>"
      ]
     },
     "execution_count": 249,
     "metadata": {},
     "output_type": "execute_result"
    },
    {
     "data": {
      "image/png": "[encoded data removed]",
      "text/plain": [
       "<Figure size 640x480 with 1 Axes>"
      ]
     },
     "metadata": {},
     "output_type": "display_data"
    }
   ],
   "source": [
    "df_tmp.groupby('weekday').mean().plot(kind='bar')"
   ]
  },
  {
   "cell_type": "code",
   "execution_count": 255,
   "id": "c101410c",
   "metadata": {},
   "outputs": [
    {
     "data": {
      "text/plain": [
       "purchase_date\n",
       "0.0     69380.000000\n",
       "1.0    250558.176471\n",
       "2.0    244754.380282\n",
       "3.0    326438.173913\n",
       "4.0    173777.847055\n",
       "5.0    133539.600000\n",
       "6.0    108459.000000\n",
       "Name: price, dtype: float64"
      ]
     },
     "execution_count": 255,
     "metadata": {},
     "output_type": "execute_result"
    }
   ],
   "source": [
    "# alternatively\n",
    "price = df['price'].map(lambda x: x if type(x)==float else float(x.strip('$').replace(',', '')))\n",
    "purchase_date = pd.to_datetime(df['purchase_date'])\n",
    "price.index = purchase_date\n",
    "price.groupby(price.index.weekday).mean()"
   ]
  },
  {
   "cell_type": "code",
   "execution_count": 257,
   "id": "8ac578b9",
   "metadata": {},
   "outputs": [
    {
     "data": {
      "text/plain": [
       "purchase_date\n",
       "Friday       173777.847055\n",
       "Monday        69380.000000\n",
       "Saturday     133539.600000\n",
       "Sunday       108459.000000\n",
       "Thursday     326438.173913\n",
       "Tuesday      250558.176471\n",
       "Wednesday    244754.380282\n",
       "Name: price, dtype: float64"
      ]
     },
     "execution_count": 257,
     "metadata": {},
     "output_type": "execute_result"
    }
   ],
   "source": [
    "price.groupby(price.index.day_name()).mean()"
   ]
  },
  {
   "cell_type": "code",
   "execution_count": 262,
   "id": "1c7b63da",
   "metadata": {},
   "outputs": [],
   "source": [
    "rng = pd.date_range(\"2023-01-01\", periods=20, freq=\"D\")\n",
    "df_test = pd.DataFrame({\"profit\": range(20)}, index=rng)\n",
    "\n",
    "# # group by weekday name\n",
    "# weekday_avg = df_test.groupby(df_test.index.day_name()).mean()\n",
    "# print(weekday_avg)"
   ]
  },
  {
   "cell_type": "code",
   "execution_count": 263,
   "id": "05b272fe",
   "metadata": {},
   "outputs": [
    {
     "data": {
      "text/html": [
       "<div>\n",
       "<style scoped>\n",
       "    .dataframe tbody tr th:only-of-type {\n",
       "        vertical-align: middle;\n",
       "    }\n",
       "\n",
       "    .dataframe tbody tr th {\n",
       "        vertical-align: top;\n",
       "    }\n",
       "\n",
       "    .dataframe thead th {\n",
       "        text-align: right;\n",
       "    }\n",
       "</style>\n",
       "<table border=\"1\" class=\"dataframe\">\n",
       "  <thead>\n",
       "    <tr style=\"text-align: right;\">\n",
       "      <th></th>\n",
       "      <th>profit</th>\n",
       "    </tr>\n",
       "  </thead>\n",
       "  <tbody>\n",
       "    <tr>\n",
       "      <th>2023-01-01</th>\n",
       "      <td>0</td>\n",
       "    </tr>\n",
       "    <tr>\n",
       "      <th>2023-01-02</th>\n",
       "      <td>1</td>\n",
       "    </tr>\n",
       "    <tr>\n",
       "      <th>2023-01-03</th>\n",
       "      <td>2</td>\n",
       "    </tr>\n",
       "    <tr>\n",
       "      <th>2023-01-04</th>\n",
       "      <td>3</td>\n",
       "    </tr>\n",
       "    <tr>\n",
       "      <th>2023-01-05</th>\n",
       "      <td>4</td>\n",
       "    </tr>\n",
       "    <tr>\n",
       "      <th>2023-01-06</th>\n",
       "      <td>5</td>\n",
       "    </tr>\n",
       "    <tr>\n",
       "      <th>2023-01-07</th>\n",
       "      <td>6</td>\n",
       "    </tr>\n",
       "    <tr>\n",
       "      <th>2023-01-08</th>\n",
       "      <td>7</td>\n",
       "    </tr>\n",
       "    <tr>\n",
       "      <th>2023-01-09</th>\n",
       "      <td>8</td>\n",
       "    </tr>\n",
       "    <tr>\n",
       "      <th>2023-01-10</th>\n",
       "      <td>9</td>\n",
       "    </tr>\n",
       "    <tr>\n",
       "      <th>2023-01-11</th>\n",
       "      <td>10</td>\n",
       "    </tr>\n",
       "    <tr>\n",
       "      <th>2023-01-12</th>\n",
       "      <td>11</td>\n",
       "    </tr>\n",
       "    <tr>\n",
       "      <th>2023-01-13</th>\n",
       "      <td>12</td>\n",
       "    </tr>\n",
       "    <tr>\n",
       "      <th>2023-01-14</th>\n",
       "      <td>13</td>\n",
       "    </tr>\n",
       "    <tr>\n",
       "      <th>2023-01-15</th>\n",
       "      <td>14</td>\n",
       "    </tr>\n",
       "    <tr>\n",
       "      <th>2023-01-16</th>\n",
       "      <td>15</td>\n",
       "    </tr>\n",
       "    <tr>\n",
       "      <th>2023-01-17</th>\n",
       "      <td>16</td>\n",
       "    </tr>\n",
       "    <tr>\n",
       "      <th>2023-01-18</th>\n",
       "      <td>17</td>\n",
       "    </tr>\n",
       "    <tr>\n",
       "      <th>2023-01-19</th>\n",
       "      <td>18</td>\n",
       "    </tr>\n",
       "    <tr>\n",
       "      <th>2023-01-20</th>\n",
       "      <td>19</td>\n",
       "    </tr>\n",
       "  </tbody>\n",
       "</table>\n",
       "</div>"
      ],
      "text/plain": [
       "            profit\n",
       "2023-01-01       0\n",
       "2023-01-02       1\n",
       "2023-01-03       2\n",
       "2023-01-04       3\n",
       "2023-01-05       4\n",
       "2023-01-06       5\n",
       "2023-01-07       6\n",
       "2023-01-08       7\n",
       "2023-01-09       8\n",
       "2023-01-10       9\n",
       "2023-01-11      10\n",
       "2023-01-12      11\n",
       "2023-01-13      12\n",
       "2023-01-14      13\n",
       "2023-01-15      14\n",
       "2023-01-16      15\n",
       "2023-01-17      16\n",
       "2023-01-18      17\n",
       "2023-01-19      18\n",
       "2023-01-20      19"
      ]
     },
     "execution_count": 263,
     "metadata": {},
     "output_type": "execute_result"
    }
   ],
   "source": [
    "df_test"
   ]
  },
  {
   "cell_type": "code",
   "execution_count": 267,
   "id": "d700a8d3",
   "metadata": {},
   "outputs": [
    {
     "data": {
      "text/html": [
       "<div>\n",
       "<style scoped>\n",
       "    .dataframe tbody tr th:only-of-type {\n",
       "        vertical-align: middle;\n",
       "    }\n",
       "\n",
       "    .dataframe tbody tr th {\n",
       "        vertical-align: top;\n",
       "    }\n",
       "\n",
       "    .dataframe thead th {\n",
       "        text-align: right;\n",
       "    }\n",
       "</style>\n",
       "<table border=\"1\" class=\"dataframe\">\n",
       "  <thead>\n",
       "    <tr style=\"text-align: right;\">\n",
       "      <th></th>\n",
       "      <th>profit</th>\n",
       "      <th>month</th>\n",
       "    </tr>\n",
       "  </thead>\n",
       "  <tbody>\n",
       "    <tr>\n",
       "      <th>0</th>\n",
       "      <td>-32508.0</td>\n",
       "      <td>12.0</td>\n",
       "    </tr>\n",
       "    <tr>\n",
       "      <th>1</th>\n",
       "      <td>NaN</td>\n",
       "      <td>9.0</td>\n",
       "    </tr>\n",
       "    <tr>\n",
       "      <th>2</th>\n",
       "      <td>-56930.0</td>\n",
       "      <td>9.0</td>\n",
       "    </tr>\n",
       "    <tr>\n",
       "      <th>3</th>\n",
       "      <td>NaN</td>\n",
       "      <td>12.0</td>\n",
       "    </tr>\n",
       "    <tr>\n",
       "      <th>4</th>\n",
       "      <td>25659.0</td>\n",
       "      <td>1.0</td>\n",
       "    </tr>\n",
       "    <tr>\n",
       "      <th>...</th>\n",
       "      <td>...</td>\n",
       "      <td>...</td>\n",
       "    </tr>\n",
       "    <tr>\n",
       "      <th>3192</th>\n",
       "      <td>NaN</td>\n",
       "      <td>11.0</td>\n",
       "    </tr>\n",
       "    <tr>\n",
       "      <th>3193</th>\n",
       "      <td>NaN</td>\n",
       "      <td>5.0</td>\n",
       "    </tr>\n",
       "    <tr>\n",
       "      <th>3194</th>\n",
       "      <td>NaN</td>\n",
       "      <td>12.0</td>\n",
       "    </tr>\n",
       "    <tr>\n",
       "      <th>3195</th>\n",
       "      <td>11931.0</td>\n",
       "      <td>4.0</td>\n",
       "    </tr>\n",
       "    <tr>\n",
       "      <th>3196</th>\n",
       "      <td>-83630.0</td>\n",
       "      <td>6.0</td>\n",
       "    </tr>\n",
       "  </tbody>\n",
       "</table>\n",
       "<p>3197 rows × 2 columns</p>\n",
       "</div>"
      ],
      "text/plain": [
       "       profit  month\n",
       "0    -32508.0   12.0\n",
       "1         NaN    9.0\n",
       "2    -56930.0    9.0\n",
       "3         NaN   12.0\n",
       "4     25659.0    1.0\n",
       "...       ...    ...\n",
       "3192      NaN   11.0\n",
       "3193      NaN    5.0\n",
       "3194      NaN   12.0\n",
       "3195  11931.0    4.0\n",
       "3196 -83630.0    6.0\n",
       "\n",
       "[3197 rows x 2 columns]"
      ]
     },
     "execution_count": 267,
     "metadata": {},
     "output_type": "execute_result"
    }
   ],
   "source": [
    "# get profit median for each month\n",
    "\n",
    "df_tmp = pd.DataFrame({'profit':profit.values, 'month':purchase_date.dt.month})\n",
    "df_tmp"
   ]
  },
  {
   "cell_type": "code",
   "execution_count": 268,
   "id": "0bd32b2d",
   "metadata": {},
   "outputs": [
    {
     "data": {
      "text/plain": [
       "<Axes: xlabel='month'>"
      ]
     },
     "execution_count": 268,
     "metadata": {},
     "output_type": "execute_result"
    },
    {
     "data": {
      "image/png": "[encoded data removed]",
      "text/plain": [
       "<Figure size 640x480 with 1 Axes>"
      ]
     },
     "metadata": {},
     "output_type": "display_data"
    }
   ],
   "source": [
    "df_tmp.groupby('month').median().plot(kind='bar')"
   ]
  },
  {
   "cell_type": "code",
   "execution_count": null,
   "id": "d7d2f411",
   "metadata": {},
   "outputs": [],
   "source": []
  }
 ],
 "metadata": {
  "kernelspec": {
   "display_name": "base",
   "language": "python",
   "name": "python3"
  },
  "language_info": {
   "codemirror_mode": {
    "name": "ipython",
    "version": 3
   },
   "file_extension": ".py",
   "mimetype": "text/x-python",
   "name": "python",
   "nbconvert_exporter": "python",
   "pygments_lexer": "ipython3",
   "version": "3.12.7"
  }
 },
 "nbformat": 4,
 "nbformat_minor": 5
}
